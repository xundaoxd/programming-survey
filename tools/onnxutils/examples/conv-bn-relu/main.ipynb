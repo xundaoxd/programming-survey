{
 "cells": [
  {
   "cell_type": "code",
   "execution_count": 1,
   "id": "af936fda-6ca3-4a2e-a019-58bd51fca781",
   "metadata": {},
   "outputs": [],
   "source": [
    "dataset_path = '/mnt/edisk/dataset/imagenet-mini/val'\n",
    "qmodel_path = 'quantized.onnx'\n",
    "model_path = 'origin.onnx'"
   ]
  },
  {
   "cell_type": "code",
   "execution_count": 2,
   "id": "e6b3c837-dc4b-4ce8-befa-cccb37149da0",
   "metadata": {},
   "outputs": [],
   "source": [
    "from tqdm import tqdm\n",
    "import pickle\n",
    "\n",
    "import matplotlib.pyplot as plt\n",
    "\n",
    "import torch\n",
    "import torch.nn as nn\n",
    "from torch.utils.data import DataLoader\n",
    "\n",
    "from torch.ao.quantization.fake_quantize import FakeQuantize\n",
    "from torch.ao.quantization.observer import HistogramObserver, PerChannelMinMaxObserver\n",
    "\n",
    "from onnxutils.common import DatasetUtils\n",
    "from onnxutils.quantization import symbolic_trace, ModuleQuantizer\n",
    "from onnxutils.quantization.layer_observer import LayerObserver\n",
    "from onnxutils.quantization.metric import compute_metrics\n",
    "\n",
    "from imagenet_pipeline import ImageNetPipeline"
   ]
  },
  {
   "cell_type": "markdown",
   "id": "e3794bf9-fed2-4dcc-ae38-83f64326688b",
   "metadata": {},
   "source": [
    "# Prepare"
   ]
  },
  {
   "cell_type": "code",
   "execution_count": 3,
   "id": "fce6c9e6-2531-43e3-9ff2-de20ab34042e",
   "metadata": {},
   "outputs": [],
   "source": [
    "class M(nn.Module):\n",
    "    def __init__(self):\n",
    "        super().__init__()\n",
    "        self.conv = nn.Conv2d(3, 3, 3, padding=1, bias=False)\n",
    "        self.bn = nn.BatchNorm2d(3)\n",
    "        self.relu = nn.ReLU()\n",
    "\n",
    "        self.conv0 = nn.Conv2d(3, 3, 3, padding=1, bias=False)\n",
    "        self.bn0 = nn.BatchNorm2d(3)\n",
    "        self.relu0 = nn.ReLU()\n",
    "\n",
    "        self.conv1 = nn.Conv2d(3, 3, 3, padding=1, bias=False)\n",
    "        self.bn1 = nn.BatchNorm2d(3)\n",
    "        self.relu1 = nn.ReLU()\n",
    "    def forward(self, x):\n",
    "        x = self.conv(x)\n",
    "        x = self.bn(x)\n",
    "        x = self.relu(x)\n",
    "\n",
    "        x = self.conv0(x)\n",
    "        x = self.bn0(x)\n",
    "        x = self.relu0(x)\n",
    "\n",
    "        x = self.conv1(x)\n",
    "        x = self.bn1(x)\n",
    "        x = self.relu1(x)\n",
    "        return x"
   ]
  },
  {
   "cell_type": "code",
   "execution_count": 4,
   "id": "a3e7206f-ab04-4742-bead-e499b1195837",
   "metadata": {},
   "outputs": [],
   "source": [
    "dataset = ImageNetPipeline.get_dataset(dataset_path)\n",
    "torch_model = M()\n",
    "\n",
    "torch_model.conv.reset_parameters()\n",
    "torch_model.bn.reset_parameters()"
   ]
  },
  {
   "cell_type": "markdown",
   "id": "d055896c-9a37-4885-8a18-a7e49c6d63e4",
   "metadata": {},
   "source": [
    "# Analysis"
   ]
  },
  {
   "cell_type": "markdown",
   "id": "34567694-ac3c-4e71-a33b-5274f87e72ab",
   "metadata": {},
   "source": [
    "# Quantization"
   ]
  },
  {
   "cell_type": "code",
   "execution_count": 5,
   "id": "cb92147b-9a09-4b76-8f6a-ec1b24ff6fd4",
   "metadata": {
    "scrolled": true
   },
   "outputs": [
    {
     "name": "stdout",
     "output_type": "stream",
     "text": [
      "class GraphModule(torch.nn.Module):\n",
      "    def forward(self, x):\n",
      "         # File: /opt/miniconda3/lib/python3.10/site-packages/torch/fx/proxy.py:219 in create_proxy, code: proxy.node.stack_trace = ''.join(CapturedTraceback.extract().format())\n",
      "        conv = self.conv(x);  x = None\n",
      "        \n",
      "         # File: /opt/miniconda3/lib/python3.10/site-packages/torch/fx/proxy.py:219 in create_proxy, code: proxy.node.stack_trace = ''.join(CapturedTraceback.extract().format())\n",
      "        bn = self.bn(conv);  conv = None\n",
      "        \n",
      "         # File: /opt/miniconda3/lib/python3.10/site-packages/torch/fx/proxy.py:219 in create_proxy, code: proxy.node.stack_trace = ''.join(CapturedTraceback.extract().format())\n",
      "        relu = self.relu(bn);  bn = None\n",
      "        \n",
      "         # File: /opt/miniconda3/lib/python3.10/site-packages/torch/fx/proxy.py:219 in create_proxy, code: proxy.node.stack_trace = ''.join(CapturedTraceback.extract().format())\n",
      "        conv0 = self.conv0(relu);  relu = None\n",
      "        \n",
      "         # File: /opt/miniconda3/lib/python3.10/site-packages/torch/fx/proxy.py:219 in create_proxy, code: proxy.node.stack_trace = ''.join(CapturedTraceback.extract().format())\n",
      "        bn0 = self.bn0(conv0);  conv0 = None\n",
      "        \n",
      "         # File: /opt/miniconda3/lib/python3.10/site-packages/torch/fx/proxy.py:219 in create_proxy, code: proxy.node.stack_trace = ''.join(CapturedTraceback.extract().format())\n",
      "        relu0 = self.relu0(bn0);  bn0 = None\n",
      "        \n",
      "         # File: /opt/miniconda3/lib/python3.10/site-packages/torch/fx/proxy.py:219 in create_proxy, code: proxy.node.stack_trace = ''.join(CapturedTraceback.extract().format())\n",
      "        conv1 = self.conv1(relu0);  relu0 = None\n",
      "        \n",
      "         # File: /opt/miniconda3/lib/python3.10/site-packages/torch/fx/proxy.py:219 in create_proxy, code: proxy.node.stack_trace = ''.join(CapturedTraceback.extract().format())\n",
      "        bn1 = self.bn1(conv1);  conv1 = None\n",
      "        \n",
      "         # File: /opt/miniconda3/lib/python3.10/site-packages/torch/fx/proxy.py:219 in create_proxy, code: proxy.node.stack_trace = ''.join(CapturedTraceback.extract().format())\n",
      "        relu1 = self.relu1(bn1);  bn1 = None\n",
      "        return relu1\n",
      "        \n"
     ]
    },
    {
     "data": {
      "text/plain": [
       "\"class GraphModule(torch.nn.Module):\\n    def forward(self, x):\\n         # File: /opt/miniconda3/lib/python3.10/site-packages/torch/fx/proxy.py:219 in create_proxy, code: proxy.node.stack_trace = ''.join(CapturedTraceback.extract().format())\\n        conv = self.conv(x);  x = None\\n        \\n         # File: /opt/miniconda3/lib/python3.10/site-packages/torch/fx/proxy.py:219 in create_proxy, code: proxy.node.stack_trace = ''.join(CapturedTraceback.extract().format())\\n        bn = self.bn(conv);  conv = None\\n        \\n         # File: /opt/miniconda3/lib/python3.10/site-packages/torch/fx/proxy.py:219 in create_proxy, code: proxy.node.stack_trace = ''.join(CapturedTraceback.extract().format())\\n        relu = self.relu(bn);  bn = None\\n        \\n         # File: /opt/miniconda3/lib/python3.10/site-packages/torch/fx/proxy.py:219 in create_proxy, code: proxy.node.stack_trace = ''.join(CapturedTraceback.extract().format())\\n        conv0 = self.conv0(relu);  relu = None\\n        \\n         # File: /opt/miniconda3/lib/python3.10/site-packages/torch/fx/proxy.py:219 in create_proxy, code: proxy.node.stack_trace = ''.join(CapturedTraceback.extract().format())\\n        bn0 = self.bn0(conv0);  conv0 = None\\n        \\n         # File: /opt/miniconda3/lib/python3.10/site-packages/torch/fx/proxy.py:219 in create_proxy, code: proxy.node.stack_trace = ''.join(CapturedTraceback.extract().format())\\n        relu0 = self.relu0(bn0);  bn0 = None\\n        \\n         # File: /opt/miniconda3/lib/python3.10/site-packages/torch/fx/proxy.py:219 in create_proxy, code: proxy.node.stack_trace = ''.join(CapturedTraceback.extract().format())\\n        conv1 = self.conv1(relu0);  relu0 = None\\n        \\n         # File: /opt/miniconda3/lib/python3.10/site-packages/torch/fx/proxy.py:219 in create_proxy, code: proxy.node.stack_trace = ''.join(CapturedTraceback.extract().format())\\n        bn1 = self.bn1(conv1);  conv1 = None\\n        \\n         # File: /opt/miniconda3/lib/python3.10/site-packages/torch/fx/proxy.py:219 in create_proxy, code: proxy.node.stack_trace = ''.join(CapturedTraceback.extract().format())\\n        relu1 = self.relu1(bn1);  bn1 = None\\n        return relu1\\n        \""
      ]
     },
     "execution_count": 5,
     "metadata": {},
     "output_type": "execute_result"
    }
   ],
   "source": [
    "graph_model = pickle.loads(pickle.dumps(torch_model))\n",
    "graph_model = symbolic_trace(graph_model)\n",
    "\n",
    "quantizer = ModuleQuantizer()\n",
    "graph_model = quantizer.quantize(graph_model, [\n",
    "    # {\n",
    "    #     'name': 'x',\n",
    "    #     'activation': FakeQuantize.with_args(observer=HistogramObserver),\n",
    "    # },\n",
    "    # {\n",
    "    #     'module_name': 'conv',\n",
    "    #     'weight': FakeQuantize.with_args(observer=PerChannelMinMaxObserver),\n",
    "    # },\n",
    "    # {\n",
    "    #     'module_name': 'relu',\n",
    "    #     'activation': FakeQuantize.with_args(observer=HistogramObserver),\n",
    "    # },\n",
    "])\n",
    "\n",
    "graph_model.print_readable()"
   ]
  },
  {
   "cell_type": "code",
   "execution_count": null,
   "id": "bb0f7889-ac38-4cc6-8dcd-94356ba8d175",
   "metadata": {
    "scrolled": true
   },
   "outputs": [
    {
     "name": "stderr",
     "output_type": "stream",
     "text": [
      " 27%|█████████████▏                                   | 27/100 [00:21<00:57,  1.28it/s]"
     ]
    }
   ],
   "source": [
    "dataloader = DataLoader(\n",
    "    DatasetUtils.take_front(\n",
    "        DatasetUtils.transform(\n",
    "            dataset,\n",
    "            lambda items: (items[0].to('cuda'),)\n",
    "        ),\n",
    "        256\n",
    "    ),\n",
    "    batch_size=64\n",
    ")\n",
    "torch_model.eval().to('cuda')\n",
    "graph_model.train().to('cuda')\n",
    "\n",
    "loss_vals = []\n",
    "loss_fn = nn.MSELoss()\n",
    "optimizer = torch.optim.SGD(graph_model.parameters(), lr=1e-2)\n",
    "\n",
    "for _ in tqdm(range(100)):\n",
    "    for data in dataloader:\n",
    "        gt = torch_model(*data)\n",
    "        pred = graph_model(*data)\n",
    "    \n",
    "        optimizer.zero_grad()\n",
    "        loss = loss_fn(pred, gt)\n",
    "        loss.backward()\n",
    "        optimizer.step()\n",
    "\n",
    "        loss_vals.append(loss.detach().cpu().item())\n",
    "\n",
    "plt.plot(loss_vals)"
   ]
  },
  {
   "cell_type": "markdown",
   "id": "df327303-3ba3-48bb-9038-7309a0b27ba2",
   "metadata": {},
   "source": [
    "# Preview"
   ]
  },
  {
   "cell_type": "code",
   "execution_count": null,
   "id": "146ee6fd-d03c-4f04-916e-91add7e0d30a",
   "metadata": {
    "scrolled": true
   },
   "outputs": [],
   "source": [
    "dataloader = DataLoader(\n",
    "    DatasetUtils.drop_front(\n",
    "        DatasetUtils.transform(\n",
    "            dataset,\n",
    "            lambda items: (items[0].to('cuda'),)\n",
    "        ),\n",
    "        256\n",
    "    ),\n",
    "    batch_size=16\n",
    ")\n",
    "torch_model.to('cuda').eval()\n",
    "graph_model.to('cuda').eval()\n",
    "\n",
    "for data in dataloader:\n",
    "    gt = torch_model(*data)\n",
    "    pred = graph_model(*data)\n",
    "\n",
    "    print(compute_metrics(gt, pred))\n",
    "    break"
   ]
  },
  {
   "cell_type": "markdown",
   "id": "1fac0588-1853-4f5a-a18b-5aba787f7d3e",
   "metadata": {},
   "source": [
    "# Export"
   ]
  },
  {
   "cell_type": "code",
   "execution_count": null,
   "id": "28a29c56-a7c2-457e-8b50-a19b1520e1ce",
   "metadata": {
    "scrolled": true
   },
   "outputs": [],
   "source": [
    "finalized_model = quantizer.finalize(graph_model).to('cuda')\n",
    "torch.onnx.export(\n",
    "    finalized_model,\n",
    "    tuple(next(iter(dataloader))),\n",
    "    qmodel_path,\n",
    "    input_names=['x'],\n",
    "    output_names=['y'],\n",
    ")\n",
    "torch.onnx.export(\n",
    "    torch_model,\n",
    "    tuple(next(iter(dataloader))),\n",
    "    model_path,\n",
    "    input_names=['x'],\n",
    "    output_names=['y'],\n",
    ")"
   ]
  }
 ],
 "metadata": {
  "kernelspec": {
   "display_name": "Python 3 (ipykernel)",
   "language": "python",
   "name": "python3"
  },
  "language_info": {
   "codemirror_mode": {
    "name": "ipython",
    "version": 3
   },
   "file_extension": ".py",
   "mimetype": "text/x-python",
   "name": "python",
   "nbconvert_exporter": "python",
   "pygments_lexer": "ipython3",
   "version": "3.10.4"
  }
 },
 "nbformat": 4,
 "nbformat_minor": 5
}
