{
 "cells": [
  {
   "cell_type": "code",
   "execution_count": 1,
   "id": "af936fda-6ca3-4a2e-a019-58bd51fca781",
   "metadata": {},
   "outputs": [],
   "source": [
    "dataset_path = '/home/ycgao/Workdir/dataset/imagenet-mini/val'\n",
    "qmodel_path = 'quantized.onnx'\n",
    "model_path = 'origin.onnx'"
   ]
  },
  {
   "cell_type": "code",
   "execution_count": 2,
   "id": "e6b3c837-dc4b-4ce8-befa-cccb37149da0",
   "metadata": {},
   "outputs": [],
   "source": [
    "from tqdm import tqdm\n",
    "import pickle\n",
    "\n",
    "import matplotlib.pyplot as plt\n",
    "\n",
    "import torch\n",
    "import torch.nn as nn\n",
    "from torch.utils.data import DataLoader\n",
    "\n",
    "from torch.ao.quantization.fake_quantize import FakeQuantize\n",
    "from torch.ao.quantization.observer import HistogramObserver, PerChannelMinMaxObserver\n",
    "\n",
    "from onnxutils.common import DatasetUtils\n",
    "from onnxutils.quantization import symbolic_trace, ModuleQuantizer\n",
    "\n",
    "from imagenet_pipeline import ImageNetPipeline"
   ]
  },
  {
   "cell_type": "markdown",
   "id": "e3794bf9-fed2-4dcc-ae38-83f64326688b",
   "metadata": {},
   "source": [
    "# Prepare"
   ]
  },
  {
   "cell_type": "code",
   "execution_count": 3,
   "id": "fce6c9e6-2531-43e3-9ff2-de20ab34042e",
   "metadata": {},
   "outputs": [],
   "source": [
    "class M(nn.Module):\n",
    "    def __init__(self):\n",
    "        super().__init__()\n",
    "        self.conv = nn.Conv2d(3, 3, 3, padding=1, bias=False)\n",
    "        self.bn = nn.BatchNorm2d(3)\n",
    "        self.relu = nn.ReLU()\n",
    "\n",
    "        self.conv0 = nn.Conv2d(3, 3, 3, padding=1, bias=False)\n",
    "        self.bn0 = nn.BatchNorm2d(3)\n",
    "        self.relu0 = nn.ReLU()\n",
    "\n",
    "        self.conv1 = nn.Conv2d(3, 3, 3, padding=1, bias=False)\n",
    "        self.bn1 = nn.BatchNorm2d(3)\n",
    "        self.relu1 = nn.ReLU()\n",
    "    def forward(self, x):\n",
    "        x = self.conv(x)\n",
    "        x = self.bn(x)\n",
    "        x = self.relu(x)\n",
    "\n",
    "        x = self.conv0(x)\n",
    "        x = self.bn0(x)\n",
    "        x = self.relu0(x)\n",
    "\n",
    "        x = self.conv1(x)\n",
    "        x = self.bn1(x)\n",
    "        x = self.relu1(x)\n",
    "        return x"
   ]
  },
  {
   "cell_type": "code",
   "execution_count": 4,
   "id": "a3e7206f-ab04-4742-bead-e499b1195837",
   "metadata": {},
   "outputs": [],
   "source": [
    "dataset = ImageNetPipeline.get_dataset(dataset_path)\n",
    "torch_model = M()\n",
    "\n",
    "torch_model.conv.reset_parameters()\n",
    "torch_model.bn.reset_parameters()\n",
    "\n",
    "torch_model.conv1.reset_parameters()\n",
    "torch_model.bn1.reset_parameters()"
   ]
  },
  {
   "cell_type": "code",
   "execution_count": 5,
   "id": "b02d0629-7b6e-4e34-8678-18b7c698c6fb",
   "metadata": {
    "scrolled": true
   },
   "outputs": [
    {
     "name": "stdout",
     "output_type": "stream",
     "text": [
      "class GraphModule(torch.nn.Module):\n",
      "    def forward(self, x):\n",
      "         # File: /opt/miniconda3/lib/python3.10/site-packages/torch/fx/proxy.py:219 in create_proxy, code: proxy.node.stack_trace = ''.join(CapturedTraceback.extract().format())\n",
      "        conv = self.conv(x);  x = None\n",
      "        \n",
      "         # File: /opt/miniconda3/lib/python3.10/site-packages/torch/fx/proxy.py:219 in create_proxy, code: proxy.node.stack_trace = ''.join(CapturedTraceback.extract().format())\n",
      "        bn = self.bn(conv);  conv = None\n",
      "        \n",
      "         # File: /opt/miniconda3/lib/python3.10/site-packages/torch/fx/proxy.py:219 in create_proxy, code: proxy.node.stack_trace = ''.join(CapturedTraceback.extract().format())\n",
      "        relu = self.relu(bn);  bn = None\n",
      "        \n",
      "         # File: /opt/miniconda3/lib/python3.10/site-packages/torch/fx/proxy.py:219 in create_proxy, code: proxy.node.stack_trace = ''.join(CapturedTraceback.extract().format())\n",
      "        conv0 = self.conv0(relu);  relu = None\n",
      "        \n",
      "         # File: /opt/miniconda3/lib/python3.10/site-packages/torch/fx/proxy.py:219 in create_proxy, code: proxy.node.stack_trace = ''.join(CapturedTraceback.extract().format())\n",
      "        bn0 = self.bn0(conv0);  conv0 = None\n",
      "        \n",
      "         # File: /opt/miniconda3/lib/python3.10/site-packages/torch/fx/proxy.py:219 in create_proxy, code: proxy.node.stack_trace = ''.join(CapturedTraceback.extract().format())\n",
      "        relu0 = self.relu0(bn0);  bn0 = None\n",
      "        \n",
      "         # File: /opt/miniconda3/lib/python3.10/site-packages/torch/fx/proxy.py:219 in create_proxy, code: proxy.node.stack_trace = ''.join(CapturedTraceback.extract().format())\n",
      "        conv1 = self.conv1(relu0);  relu0 = None\n",
      "        \n",
      "         # File: /opt/miniconda3/lib/python3.10/site-packages/torch/fx/proxy.py:219 in create_proxy, code: proxy.node.stack_trace = ''.join(CapturedTraceback.extract().format())\n",
      "        bn1 = self.bn1(conv1);  conv1 = None\n",
      "        \n",
      "         # File: /opt/miniconda3/lib/python3.10/site-packages/torch/fx/proxy.py:219 in create_proxy, code: proxy.node.stack_trace = ''.join(CapturedTraceback.extract().format())\n",
      "        relu1 = self.relu1(bn1);  bn1 = None\n",
      "        return relu1\n",
      "        \n"
     ]
    },
    {
     "data": {
      "text/plain": [
       "\"class GraphModule(torch.nn.Module):\\n    def forward(self, x):\\n         # File: /opt/miniconda3/lib/python3.10/site-packages/torch/fx/proxy.py:219 in create_proxy, code: proxy.node.stack_trace = ''.join(CapturedTraceback.extract().format())\\n        conv = self.conv(x);  x = None\\n        \\n         # File: /opt/miniconda3/lib/python3.10/site-packages/torch/fx/proxy.py:219 in create_proxy, code: proxy.node.stack_trace = ''.join(CapturedTraceback.extract().format())\\n        bn = self.bn(conv);  conv = None\\n        \\n         # File: /opt/miniconda3/lib/python3.10/site-packages/torch/fx/proxy.py:219 in create_proxy, code: proxy.node.stack_trace = ''.join(CapturedTraceback.extract().format())\\n        relu = self.relu(bn);  bn = None\\n        \\n         # File: /opt/miniconda3/lib/python3.10/site-packages/torch/fx/proxy.py:219 in create_proxy, code: proxy.node.stack_trace = ''.join(CapturedTraceback.extract().format())\\n        conv0 = self.conv0(relu);  relu = None\\n        \\n         # File: /opt/miniconda3/lib/python3.10/site-packages/torch/fx/proxy.py:219 in create_proxy, code: proxy.node.stack_trace = ''.join(CapturedTraceback.extract().format())\\n        bn0 = self.bn0(conv0);  conv0 = None\\n        \\n         # File: /opt/miniconda3/lib/python3.10/site-packages/torch/fx/proxy.py:219 in create_proxy, code: proxy.node.stack_trace = ''.join(CapturedTraceback.extract().format())\\n        relu0 = self.relu0(bn0);  bn0 = None\\n        \\n         # File: /opt/miniconda3/lib/python3.10/site-packages/torch/fx/proxy.py:219 in create_proxy, code: proxy.node.stack_trace = ''.join(CapturedTraceback.extract().format())\\n        conv1 = self.conv1(relu0);  relu0 = None\\n        \\n         # File: /opt/miniconda3/lib/python3.10/site-packages/torch/fx/proxy.py:219 in create_proxy, code: proxy.node.stack_trace = ''.join(CapturedTraceback.extract().format())\\n        bn1 = self.bn1(conv1);  conv1 = None\\n        \\n         # File: /opt/miniconda3/lib/python3.10/site-packages/torch/fx/proxy.py:219 in create_proxy, code: proxy.node.stack_trace = ''.join(CapturedTraceback.extract().format())\\n        relu1 = self.relu1(bn1);  bn1 = None\\n        return relu1\\n        \""
      ]
     },
     "execution_count": 5,
     "metadata": {},
     "output_type": "execute_result"
    }
   ],
   "source": [
    "graph_model = pickle.loads(pickle.dumps(torch_model))\n",
    "graph_model = symbolic_trace(graph_model)\n",
    "\n",
    "quantizer = ModuleQuantizer()\n",
    "graph_model = quantizer.quantize(graph_model, [\n",
    "    # {\n",
    "    #     'name': 'x',\n",
    "    #     'activation': FakeQuantize.with_args(observer=HistogramObserver),\n",
    "    # },\n",
    "    {\n",
    "        'module_name': 'conv',\n",
    "        'weight': FakeQuantize.with_args(observer=PerChannelMinMaxObserver),\n",
    "    },\n",
    "    # {\n",
    "    #     'module_name': 'relu',\n",
    "    #     'activation': FakeQuantize.with_args(observer=HistogramObserver),\n",
    "    # },\n",
    "])\n",
    "\n",
    "graph_model.print_readable()"
   ]
  },
  {
   "cell_type": "markdown",
   "id": "34567694-ac3c-4e71-a33b-5274f87e72ab",
   "metadata": {},
   "source": [
    "# Finetune"
   ]
  },
  {
   "cell_type": "code",
   "execution_count": 6,
   "id": "bb0f7889-ac38-4cc6-8dcd-94356ba8d175",
   "metadata": {
    "scrolled": true
   },
   "outputs": [
    {
     "name": "stderr",
     "output_type": "stream",
     "text": [
      "100%|██████████████████████████████████████████████████| 70/70 [00:42<00:00,  1.65it/s]\n"
     ]
    },
    {
     "data": {
      "text/plain": [
       "[<matplotlib.lines.Line2D at 0x73c63df15180>]"
      ]
     },
     "execution_count": 6,
     "metadata": {},
     "output_type": "execute_result"
    },
    {
     "data": {
      "image/png": "[encoded data removed]",
      "text/plain": [
       "<Figure size 640x480 with 1 Axes>"
      ]
     },
     "metadata": {},
     "output_type": "display_data"
    }
   ],
   "source": [
    "dataloader = DataLoader(\n",
    "    DatasetUtils.take_front(\n",
    "        DatasetUtils.transform(\n",
    "            dataset,\n",
    "            lambda items: (items[0].to('cuda'),)\n",
    "        ),\n",
    "        200\n",
    "    ),\n",
    "    batch_size=64\n",
    ")\n",
    "torch_model.eval().to('cuda')\n",
    "graph_model.train().to('cuda')\n",
    "\n",
    "loss_vals = []\n",
    "loss_fn = nn.MSELoss()\n",
    "optimizer = torch.optim.SGD(graph_model.parameters(), lr=1e-2)\n",
    "for _ in tqdm(range(70)):\n",
    "    # local_loss = 0\n",
    "    for data in dataloader:\n",
    "        gt = torch_model(*data)\n",
    "        pred = graph_model(*data)\n",
    "    \n",
    "        optimizer.zero_grad()\n",
    "        loss = loss_fn(pred, gt)\n",
    "        loss.backward()\n",
    "        optimizer.step()\n",
    "\n",
    "        loss_vals.append(loss.detach().cpu().item())\n",
    "    #     local_loss += loss.detach().cpu().item()\n",
    "    # loss_vals.append(local_loss)\n",
    "plt.plot(loss_vals)"
   ]
  },
  {
   "cell_type": "markdown",
   "id": "df327303-3ba3-48bb-9038-7309a0b27ba2",
   "metadata": {},
   "source": [
    "# Analysis"
   ]
  },
  {
   "cell_type": "code",
   "execution_count": 7,
   "id": "146ee6fd-d03c-4f04-916e-91add7e0d30a",
   "metadata": {
    "scrolled": true
   },
   "outputs": [
    {
     "name": "stdout",
     "output_type": "stream",
     "text": [
      "tensor([0.1942, 0.0000, 0.0221, 0.1942, 0.6508, 0.0669, 3.3508, 0.3443],\n",
      "       device='cuda:0', grad_fn=<UnbindBackward0>)\n",
      "tensor([0.4094, 0.0000, 0.0565, 0.4094, 2.0765, 0.1018, 5.0719, 0.2486],\n",
      "       device='cuda:0', grad_fn=<UnbindBackward0>)\n",
      "tensor([0.3255, 0.0000, 0.0285, 0.3255, 1.6158, 0.0649, 4.9635, 0.1994],\n",
      "       device='cuda:0', grad_fn=<UnbindBackward0>)\n",
      "tensor([0.3124, 0.0000, 0.0525, 0.3124, 1.3569, 0.0931, 4.3435, 0.2981],\n",
      "       device='cuda:0', grad_fn=<UnbindBackward0>)\n",
      "tensor([0.4173, 0.0000, 0.0366, 0.4173, 2.0027, 0.0800, 4.7988, 0.1917],\n",
      "       device='cuda:0', grad_fn=<UnbindBackward0>)\n",
      "tensor([0.1960, 0.0000, 0.0303, 0.1960, 0.4594, 0.0564, 2.3439, 0.2878],\n",
      "       device='cuda:0', grad_fn=<UnbindBackward0>)\n",
      "tensor([0.3988, 0.0000, 0.0469, 0.3988, 1.7618, 0.0609, 4.4174, 0.1526],\n",
      "       device='cuda:0', grad_fn=<UnbindBackward0>)\n",
      "tensor([0.3404, 0.0000, 0.0531, 0.3404, 1.3301, 0.0629, 3.9072, 0.1848],\n",
      "       device='cuda:0', grad_fn=<UnbindBackward0>)\n",
      "tensor([0.4455, 0.0000, 0.0507, 0.4455, 3.2762, 0.0636, 7.3545, 0.1429],\n",
      "       device='cuda:0', grad_fn=<UnbindBackward0>)\n",
      "tensor([0.3034, 0.0000, 0.0599, 0.3034, 1.0125, 0.1000, 3.3369, 0.3297],\n",
      "       device='cuda:0', grad_fn=<UnbindBackward0>)\n",
      "tensor([0.3765, 0.0000, 0.0415, 0.3765, 1.8085, 0.0529, 4.8041, 0.1405],\n",
      "       device='cuda:0', grad_fn=<UnbindBackward0>)\n",
      "tensor([0.4299, 0.0000, 0.0390, 0.4299, 2.1285, 0.0640, 4.9511, 0.1489],\n",
      "       device='cuda:0', grad_fn=<UnbindBackward0>)\n",
      "tensor([0.3005, 0.0000, 0.0397, 0.3005, 1.1596, 0.0508, 3.8592, 0.1691],\n",
      "       device='cuda:0', grad_fn=<UnbindBackward0>)\n",
      "tensor([0.1901, 0.0000, 0.0435, 0.1901, 1.1560, 0.0796, 6.0806, 0.4186],\n",
      "       device='cuda:0', grad_fn=<UnbindBackward0>)\n",
      "tensor([0.4237, 0.0000, 0.0263, 0.4237, 2.2604, 0.0641, 5.3346, 0.1512],\n",
      "       device='cuda:0', grad_fn=<UnbindBackward0>)\n",
      "tensor([0.3421, 0.0000, 0.0353, 0.3421, 1.5508, 0.0699, 4.5332, 0.2045],\n",
      "       device='cuda:0', grad_fn=<UnbindBackward0>)\n",
      "tensor([0.3826, 0.0000, 0.0368, 0.3826, 1.3783, 0.0729, 3.6022, 0.1906],\n",
      "       device='cuda:0', grad_fn=<UnbindBackward0>)\n",
      "tensor([0.2646, 0.0000, 0.0377, 0.2646, 1.4978, 0.0790, 5.6607, 0.2984],\n",
      "       device='cuda:0', grad_fn=<UnbindBackward0>)\n",
      "tensor([0.3277, 0.0000, 0.0368, 0.3277, 2.1107, 0.0706, 6.4419, 0.2156],\n",
      "       device='cuda:0', grad_fn=<UnbindBackward0>)\n",
      "tensor([0.2063, 0.0000, 0.0275, 0.2063, 0.9508, 0.0685, 4.6091, 0.3318],\n",
      "       device='cuda:0', grad_fn=<UnbindBackward0>)\n",
      "tensor([0.2346, 0.0000, 0.0271, 0.2346, 1.0119, 0.0712, 4.3135, 0.3034],\n",
      "       device='cuda:0', grad_fn=<UnbindBackward0>)\n",
      "tensor([0.2363, 0.0000, 0.0488, 0.2363, 0.5904, 0.0586, 2.4985, 0.2481],\n",
      "       device='cuda:0', grad_fn=<UnbindBackward0>)\n",
      "tensor([0.2306, 0.0000, 0.0373, 0.2306, 0.8839, 0.0706, 3.8339, 0.3062],\n",
      "       device='cuda:0', grad_fn=<UnbindBackward0>)\n",
      "tensor([0.1782, 0.0000, 0.0394, 0.1782, 1.0202, 0.0719, 5.7264, 0.4038],\n",
      "       device='cuda:0', grad_fn=<UnbindBackward0>)\n",
      "tensor([0.3374, 0.0000, 0.1090, 0.3374, 1.9414, 0.0741, 5.7531, 0.2197],\n",
      "       device='cuda:0', grad_fn=<UnbindBackward0>)\n",
      "tensor([0.3580, 0.0000, 0.0391, 0.3580, 1.6697, 0.0728, 4.6642, 0.2034],\n",
      "       device='cuda:0', grad_fn=<UnbindBackward0>)\n",
      "tensor([0.3598, 0.0000, 0.0352, 0.3598, 1.4238, 0.0607, 3.9574, 0.1687],\n",
      "       device='cuda:0', grad_fn=<UnbindBackward0>)\n",
      "tensor([0.3076, 0.0000, 0.0254, 0.3076, 1.1696, 0.0669, 3.8019, 0.2174],\n",
      "       device='cuda:0', grad_fn=<UnbindBackward0>)\n",
      "tensor([0.2228, 0.0000, 0.0282, 0.2228, 0.8933, 0.0672, 4.0095, 0.3014],\n",
      "       device='cuda:0', grad_fn=<UnbindBackward0>)\n",
      "tensor([0.4157, 0.0000, 0.0354, 0.4157, 2.2897, 0.0604, 5.5085, 0.1454],\n",
      "       device='cuda:0', grad_fn=<UnbindBackward0>)\n",
      "tensor([0.3734, 0.0000, 0.0573, 0.3734, 1.8857, 0.0669, 5.0504, 0.1791],\n",
      "       device='cuda:0', grad_fn=<UnbindBackward0>)\n",
      "tensor([0.2464, 0.0000, 0.0326, 0.2464, 0.9690, 0.0710, 3.9321, 0.2880],\n",
      "       device='cuda:0', grad_fn=<UnbindBackward0>)\n",
      "tensor([0.3671, 0.0000, 0.0295, 0.3671, 1.6708, 0.0674, 4.5518, 0.1837],\n",
      "       device='cuda:0', grad_fn=<UnbindBackward0>)\n",
      "tensor([0.2898, 0.0000, 0.0407, 0.2898, 1.0791, 0.0700, 3.7230, 0.2416],\n",
      "       device='cuda:0', grad_fn=<UnbindBackward0>)\n",
      "tensor([0.3924, 0.0000, 0.0659, 0.3924, 2.1951, 0.1181, 5.5945, 0.3011],\n",
      "       device='cuda:0', grad_fn=<UnbindBackward0>)\n",
      "tensor([0.4503, 0.0000, 0.0554, 0.4503, 2.5368, 0.0608, 5.6338, 0.1351],\n",
      "       device='cuda:0', grad_fn=<UnbindBackward0>)\n",
      "tensor([0.2237, 0.0000, 0.0084, 0.2237, 1.1496, 0.0678, 5.1402, 0.3031],\n",
      "       device='cuda:0', grad_fn=<UnbindBackward0>)\n",
      "tensor([0.2816, 0.0000, 0.0733, 0.2816, 1.4386, 0.0598, 5.1085, 0.2123],\n",
      "       device='cuda:0', grad_fn=<UnbindBackward0>)\n",
      "tensor([0.3416, 0.0000, 0.0432, 0.3416, 1.3496, 0.0480, 3.9507, 0.1406],\n",
      "       device='cuda:0', grad_fn=<UnbindBackward0>)\n",
      "tensor([0.3929, 0.0000, 0.0226, 0.3929, 2.7812, 0.0655, 7.0794, 0.1668],\n",
      "       device='cuda:0', grad_fn=<UnbindBackward0>)\n",
      "tensor([0.3194, 0.0000, 0.0523, 0.3194, 1.0205, 0.0578, 3.1955, 0.1809],\n",
      "       device='cuda:0', grad_fn=<UnbindBackward0>)\n",
      "tensor([0.3666, 0.0000, 0.0361, 0.3666, 2.0125, 0.0766, 5.4890, 0.2089],\n",
      "       device='cuda:0', grad_fn=<UnbindBackward0>)\n",
      "tensor([0.3256, 0.0000, 0.0388, 0.3256, 1.2370, 0.0596, 3.7991, 0.1830],\n",
      "       device='cuda:0', grad_fn=<UnbindBackward0>)\n",
      "tensor([0.6460, 0.0000, 0.0664, 0.6460, 2.8753, 0.1088, 4.4511, 0.1684],\n",
      "       device='cuda:0', grad_fn=<UnbindBackward0>)\n",
      "tensor([0.3434, 0.0000, 0.0619, 0.3434, 1.7363, 0.0801, 5.0560, 0.2333],\n",
      "       device='cuda:0', grad_fn=<UnbindBackward0>)\n",
      "tensor([0.2789, 0.0000, 0.0291, 0.2789, 1.2172, 0.0510, 4.3636, 0.1827],\n",
      "       device='cuda:0', grad_fn=<UnbindBackward0>)\n",
      "tensor([0.4436, 0.0000, 0.0261, 0.4436, 2.6439, 0.0661, 5.9600, 0.1490],\n",
      "       device='cuda:0', grad_fn=<UnbindBackward0>)\n",
      "tensor([0.3941, 0.0000, 0.0574, 0.3941, 2.7849, 0.0606, 7.0671, 0.1539],\n",
      "       device='cuda:0', grad_fn=<UnbindBackward0>)\n",
      "tensor([0.2935, 0.0000, 0.0248, 0.2935, 1.7264, 0.0571, 5.8813, 0.1944],\n",
      "       device='cuda:0', grad_fn=<UnbindBackward0>)\n",
      "tensor([0.4569, 0.0000, 0.0440, 0.4569, 2.2497, 0.0815, 4.9241, 0.1783],\n",
      "       device='cuda:0', grad_fn=<UnbindBackward0>)\n",
      "tensor([0.2936, 0.0000, 0.0503, 0.2936, 1.6075, 0.0847, 5.4745, 0.2884],\n",
      "       device='cuda:0', grad_fn=<UnbindBackward0>)\n",
      "tensor([0.4179, 0.0000, 0.0238, 0.4179, 2.4064, 0.0665, 5.7579, 0.1590],\n",
      "       device='cuda:0', grad_fn=<UnbindBackward0>)\n",
      "tensor([0.3478, 0.0000, 0.0363, 0.3478, 1.8340, 0.0621, 5.2731, 0.1785],\n",
      "       device='cuda:0', grad_fn=<UnbindBackward0>)\n",
      "tensor([0.3023, 0.0000, 0.0272, 0.3023, 1.0051, 0.0586, 3.3251, 0.1939],\n",
      "       device='cuda:0', grad_fn=<UnbindBackward0>)\n",
      "tensor([0.4099, 0.0000, 0.0355, 0.4099, 1.8531, 0.0696, 4.5209, 0.1698],\n",
      "       device='cuda:0', grad_fn=<UnbindBackward0>)\n",
      "tensor([0.3665, 0.0000, 0.0332, 0.3665, 1.8277, 0.0676, 4.9872, 0.1843],\n",
      "       device='cuda:0', grad_fn=<UnbindBackward0>)\n",
      "tensor([0.3351, 0.0000, 0.0175, 0.3351, 1.0375, 0.0671, 3.0963, 0.2001],\n",
      "       device='cuda:0', grad_fn=<UnbindBackward0>)\n",
      "tensor([0.3861, 0.0000, 0.0300, 0.3861, 2.1575, 0.0649, 5.5880, 0.1682],\n",
      "       device='cuda:0', grad_fn=<UnbindBackward0>)\n",
      "tensor([0.3605, 0.0000, 0.0340, 0.3605, 1.5983, 0.0555, 4.4331, 0.1539],\n",
      "       device='cuda:0', grad_fn=<UnbindBackward0>)\n",
      "tensor([0.3313, 0.0000, 0.0369, 0.3313, 1.2204, 0.0718, 3.6831, 0.2167],\n",
      "       device='cuda:0', grad_fn=<UnbindBackward0>)\n",
      "tensor([0.4713, 0.0000, 0.1035, 0.4713, 2.7534, 0.0539, 5.8419, 0.1144],\n",
      "       device='cuda:0', grad_fn=<UnbindBackward0>)\n",
      "tensor([0.2782, 0.0000, 0.0295, 0.2782, 1.5489, 0.0795, 5.5684, 0.2856],\n",
      "       device='cuda:0', grad_fn=<UnbindBackward0>)\n",
      "tensor([0.3414, 0.0000, 0.0324, 0.3414, 1.1014, 0.0476, 3.2258, 0.1393],\n",
      "       device='cuda:0', grad_fn=<UnbindBackward0>)\n",
      "tensor([0.4165, 0.0000, 0.0504, 0.4165, 2.4970, 0.0642, 5.9951, 0.1542],\n",
      "       device='cuda:0', grad_fn=<UnbindBackward0>)\n"
     ]
    }
   ],
   "source": [
    "dataloader = DataLoader(\n",
    "    DatasetUtils.drop_front(\n",
    "        DatasetUtils.transform(\n",
    "            dataset,\n",
    "            lambda items: (items[0].to('cuda'),)\n",
    "        ),\n",
    "        200\n",
    "    ),\n",
    "    batch_size=64\n",
    ")\n",
    "torch_model.to('cuda').eval()\n",
    "graph_model.to('cuda').eval()\n",
    "\n",
    "for data in dataloader:\n",
    "    gt = torch_model(*data)\n",
    "    pred = graph_model(*data)\n",
    "\n",
    "    gt = gt.flatten(start_dim=1).float()\n",
    "    pred = pred.flatten(start_dim=1).float()\n",
    "    \n",
    "    gt_max = gt.max(dim=1, keepdim=True)[0]\n",
    "    gt_min = gt.min(dim=1, keepdim=True)[0]\n",
    "    gt_mean = gt.mean(dim=1, keepdim=True)\n",
    "    gt_range = gt_max - gt_min\n",
    "\n",
    "    diff = torch.sqrt(torch.pow(gt - pred, 2))\n",
    "    diff_max = diff.max(dim=1, keepdim=True)[0]\n",
    "    diff_mean = diff.mean(dim=1, keepdim=True)\n",
    "    \n",
    "    items = torch.cat([gt_max, gt_min, gt_mean, gt_range, diff_max, diff_mean, diff_max / gt_range, diff_mean / gt_range], dim=1)\n",
    "    for item in items:\n",
    "        print(item)\n",
    "    break"
   ]
  },
  {
   "cell_type": "markdown",
   "id": "1fac0588-1853-4f5a-a18b-5aba787f7d3e",
   "metadata": {},
   "source": [
    "# Export"
   ]
  },
  {
   "cell_type": "code",
   "execution_count": 8,
   "id": "28a29c56-a7c2-457e-8b50-a19b1520e1ce",
   "metadata": {
    "scrolled": true
   },
   "outputs": [
    {
     "name": "stdout",
     "output_type": "stream",
     "text": [
      "class GraphModule(torch.nn.Module):\n",
      "    def forward(self, x):\n",
      "         # File: /opt/miniconda3/lib/python3.10/site-packages/torch/fx/proxy.py:219 in create_proxy, code: proxy.node.stack_trace = ''.join(CapturedTraceback.extract().format())\n",
      "        conv = self.conv(x);  x = None\n",
      "        \n",
      "         # File: /opt/miniconda3/lib/python3.10/site-packages/torch/fx/proxy.py:219 in create_proxy, code: proxy.node.stack_trace = ''.join(CapturedTraceback.extract().format())\n",
      "        bn = self.bn(conv);  conv = None\n",
      "        \n",
      "         # File: /opt/miniconda3/lib/python3.10/site-packages/torch/fx/proxy.py:219 in create_proxy, code: proxy.node.stack_trace = ''.join(CapturedTraceback.extract().format())\n",
      "        relu = self.relu(bn);  bn = None\n",
      "        \n",
      "         # File: /opt/miniconda3/lib/python3.10/site-packages/torch/fx/proxy.py:219 in create_proxy, code: proxy.node.stack_trace = ''.join(CapturedTraceback.extract().format())\n",
      "        conv0 = self.conv0(relu);  relu = None\n",
      "        \n",
      "         # File: /opt/miniconda3/lib/python3.10/site-packages/torch/fx/proxy.py:219 in create_proxy, code: proxy.node.stack_trace = ''.join(CapturedTraceback.extract().format())\n",
      "        bn0 = self.bn0(conv0);  conv0 = None\n",
      "        \n",
      "         # File: /opt/miniconda3/lib/python3.10/site-packages/torch/fx/proxy.py:219 in create_proxy, code: proxy.node.stack_trace = ''.join(CapturedTraceback.extract().format())\n",
      "        relu0 = self.relu0(bn0);  bn0 = None\n",
      "        \n",
      "         # File: /opt/miniconda3/lib/python3.10/site-packages/torch/fx/proxy.py:219 in create_proxy, code: proxy.node.stack_trace = ''.join(CapturedTraceback.extract().format())\n",
      "        conv1 = self.conv1(relu0);  relu0 = None\n",
      "        \n",
      "         # File: /opt/miniconda3/lib/python3.10/site-packages/torch/fx/proxy.py:219 in create_proxy, code: proxy.node.stack_trace = ''.join(CapturedTraceback.extract().format())\n",
      "        bn1 = self.bn1(conv1);  conv1 = None\n",
      "        \n",
      "         # File: /opt/miniconda3/lib/python3.10/site-packages/torch/fx/proxy.py:219 in create_proxy, code: proxy.node.stack_trace = ''.join(CapturedTraceback.extract().format())\n",
      "        relu1 = self.relu1(bn1);  bn1 = None\n",
      "        return relu1\n",
      "        \n"
     ]
    },
    {
     "data": {
      "text/plain": [
       "\"class GraphModule(torch.nn.Module):\\n    def forward(self, x):\\n         # File: /opt/miniconda3/lib/python3.10/site-packages/torch/fx/proxy.py:219 in create_proxy, code: proxy.node.stack_trace = ''.join(CapturedTraceback.extract().format())\\n        conv = self.conv(x);  x = None\\n        \\n         # File: /opt/miniconda3/lib/python3.10/site-packages/torch/fx/proxy.py:219 in create_proxy, code: proxy.node.stack_trace = ''.join(CapturedTraceback.extract().format())\\n        bn = self.bn(conv);  conv = None\\n        \\n         # File: /opt/miniconda3/lib/python3.10/site-packages/torch/fx/proxy.py:219 in create_proxy, code: proxy.node.stack_trace = ''.join(CapturedTraceback.extract().format())\\n        relu = self.relu(bn);  bn = None\\n        \\n         # File: /opt/miniconda3/lib/python3.10/site-packages/torch/fx/proxy.py:219 in create_proxy, code: proxy.node.stack_trace = ''.join(CapturedTraceback.extract().format())\\n        conv0 = self.conv0(relu);  relu = None\\n        \\n         # File: /opt/miniconda3/lib/python3.10/site-packages/torch/fx/proxy.py:219 in create_proxy, code: proxy.node.stack_trace = ''.join(CapturedTraceback.extract().format())\\n        bn0 = self.bn0(conv0);  conv0 = None\\n        \\n         # File: /opt/miniconda3/lib/python3.10/site-packages/torch/fx/proxy.py:219 in create_proxy, code: proxy.node.stack_trace = ''.join(CapturedTraceback.extract().format())\\n        relu0 = self.relu0(bn0);  bn0 = None\\n        \\n         # File: /opt/miniconda3/lib/python3.10/site-packages/torch/fx/proxy.py:219 in create_proxy, code: proxy.node.stack_trace = ''.join(CapturedTraceback.extract().format())\\n        conv1 = self.conv1(relu0);  relu0 = None\\n        \\n         # File: /opt/miniconda3/lib/python3.10/site-packages/torch/fx/proxy.py:219 in create_proxy, code: proxy.node.stack_trace = ''.join(CapturedTraceback.extract().format())\\n        bn1 = self.bn1(conv1);  conv1 = None\\n        \\n         # File: /opt/miniconda3/lib/python3.10/site-packages/torch/fx/proxy.py:219 in create_proxy, code: proxy.node.stack_trace = ''.join(CapturedTraceback.extract().format())\\n        relu1 = self.relu1(bn1);  bn1 = None\\n        return relu1\\n        \""
      ]
     },
     "execution_count": 8,
     "metadata": {},
     "output_type": "execute_result"
    }
   ],
   "source": [
    "finalized_model = quantizer.finalize(graph_model)\n",
    "finalized_model.to('cuda')\n",
    "\n",
    "finalized_model.print_readable()"
   ]
  },
  {
   "cell_type": "code",
   "execution_count": 9,
   "id": "4768c89f-1dcf-47fa-9b3a-bc552f5ff0a8",
   "metadata": {
    "scrolled": true
   },
   "outputs": [],
   "source": [
    "torch.onnx.export(\n",
    "    finalized_model,\n",
    "    tuple(next(iter(dataloader))),\n",
    "    qmodel_path,\n",
    "    input_names=['x'],\n",
    "    output_names=['y'],\n",
    ")\n",
    "torch.onnx.export(\n",
    "    torch_model,\n",
    "    tuple(next(iter(dataloader))),\n",
    "    model_path,\n",
    "    input_names=['x'],\n",
    "    output_names=['y'],\n",
    ")"
   ]
  }
 ],
 "metadata": {
  "kernelspec": {
   "display_name": "Python 3 (ipykernel)",
   "language": "python",
   "name": "python3"
  },
  "language_info": {
   "codemirror_mode": {
    "name": "ipython",
    "version": 3
   },
   "file_extension": ".py",
   "mimetype": "text/x-python",
   "name": "python",
   "nbconvert_exporter": "python",
   "pygments_lexer": "ipython3",
   "version": "3.10.4"
  }
 },
 "nbformat": 4,
 "nbformat_minor": 5
}
