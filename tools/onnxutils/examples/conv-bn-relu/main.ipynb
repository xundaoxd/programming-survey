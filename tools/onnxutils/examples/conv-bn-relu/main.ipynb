{
 "cells": [
  {
   "cell_type": "code",
   "execution_count": 1,
   "id": "af936fda-6ca3-4a2e-a019-58bd51fca781",
   "metadata": {},
   "outputs": [],
   "source": [
    "dataset_path = '/home/ycgao/Workdir/dataset/imagenet-mini/val'\n",
    "qmodel_path = 'quantized.onnx'\n",
    "model_path = 'origin.onnx'"
   ]
  },
  {
   "cell_type": "code",
   "execution_count": 2,
   "id": "e6b3c837-dc4b-4ce8-befa-cccb37149da0",
   "metadata": {},
   "outputs": [],
   "source": [
    "from tqdm import tqdm\n",
    "\n",
    "import matplotlib.pyplot as plt\n",
    "\n",
    "import torch\n",
    "import torch.nn as nn\n",
    "from torch.utils.data import DataLoader\n",
    "\n",
    "from torch.ao.quantization.fake_quantize import FakeQuantize\n",
    "from torch.ao.quantization.observer import HistogramObserver, PerChannelMinMaxObserver\n",
    "\n",
    "from onnxutils.common import DatasetUtils\n",
    "from onnxutils.quantization import symbolic_trace, ModuleQuantizer\n",
    "\n",
    "from imagenet_pipeline import ImageNetPipeline"
   ]
  },
  {
   "cell_type": "markdown",
   "id": "e3794bf9-fed2-4dcc-ae38-83f64326688b",
   "metadata": {},
   "source": [
    "# Prepare"
   ]
  },
  {
   "cell_type": "code",
   "execution_count": 3,
   "id": "fce6c9e6-2531-43e3-9ff2-de20ab34042e",
   "metadata": {},
   "outputs": [],
   "source": [
    "class M(nn.Module):\n",
    "    def __init__(self):\n",
    "        super().__init__()\n",
    "        self.conv = nn.Conv2d(3, 3, 3, padding=1, bias=False)\n",
    "        self.bn = nn.BatchNorm2d(3)\n",
    "        self.relu = nn.ReLU()\n",
    "        self.conv1 = nn.Conv2d(3, 3, 3, padding=1, bias=False)\n",
    "        self.bn1 = nn.BatchNorm2d(3)\n",
    "        self.relu1 = nn.ReLU()\n",
    "    def forward(self, x):\n",
    "        x = self.conv(x)\n",
    "        x = self.bn(x)\n",
    "        x = self.relu(x)\n",
    "        x = self.conv1(x)\n",
    "        x = self.bn1(x)\n",
    "        x = self.relu1(x)\n",
    "        return x"
   ]
  },
  {
   "cell_type": "code",
   "execution_count": 4,
   "id": "a3e7206f-ab04-4742-bead-e499b1195837",
   "metadata": {},
   "outputs": [],
   "source": [
    "dataset = ImageNetPipeline.get_dataset(dataset_path)\n",
    "torch_model = M()"
   ]
  },
  {
   "cell_type": "markdown",
   "id": "4cc616b3-d9ae-433c-ba3e-1e5814efa61b",
   "metadata": {},
   "source": [
    "# Quantization"
   ]
  },
  {
   "cell_type": "code",
   "execution_count": 5,
   "id": "b02d0629-7b6e-4e34-8678-18b7c698c6fb",
   "metadata": {
    "scrolled": true
   },
   "outputs": [
    {
     "name": "stdout",
     "output_type": "stream",
     "text": [
      "class GraphModule(torch.nn.Module):\n",
      "    def forward(self, x):\n",
      "        # No stacktrace found for following nodes\n",
      "        fq0 = self.fq0(x);  x = None\n",
      "        \n",
      "         # File: /opt/miniconda3/lib/python3.10/site-packages/torch/fx/proxy.py:219 in create_proxy, code: proxy.node.stack_trace = ''.join(CapturedTraceback.extract().format())\n",
      "        conv = self.conv(fq0);  fq0 = None\n",
      "        \n",
      "         # File: /opt/miniconda3/lib/python3.10/site-packages/torch/fx/proxy.py:219 in create_proxy, code: proxy.node.stack_trace = ''.join(CapturedTraceback.extract().format())\n",
      "        bn = self.bn(conv);  conv = None\n",
      "        \n",
      "         # File: /opt/miniconda3/lib/python3.10/site-packages/torch/fx/proxy.py:219 in create_proxy, code: proxy.node.stack_trace = ''.join(CapturedTraceback.extract().format())\n",
      "        relu = self.relu(bn);  bn = None\n",
      "        \n",
      "        # No stacktrace found for following nodes\n",
      "        fq1 = self.fq1(relu);  relu = None\n",
      "        \n",
      "         # File: /opt/miniconda3/lib/python3.10/site-packages/torch/fx/proxy.py:219 in create_proxy, code: proxy.node.stack_trace = ''.join(CapturedTraceback.extract().format())\n",
      "        conv1 = self.conv1(fq1);  fq1 = None\n",
      "        \n",
      "         # File: /opt/miniconda3/lib/python3.10/site-packages/torch/fx/proxy.py:219 in create_proxy, code: proxy.node.stack_trace = ''.join(CapturedTraceback.extract().format())\n",
      "        bn1 = self.bn1(conv1);  conv1 = None\n",
      "        \n",
      "         # File: /opt/miniconda3/lib/python3.10/site-packages/torch/fx/proxy.py:219 in create_proxy, code: proxy.node.stack_trace = ''.join(CapturedTraceback.extract().format())\n",
      "        relu1 = self.relu1(bn1);  bn1 = None\n",
      "        return relu1\n",
      "        \n"
     ]
    },
    {
     "data": {
      "text/plain": [
       "\"class GraphModule(torch.nn.Module):\\n    def forward(self, x):\\n        # No stacktrace found for following nodes\\n        fq0 = self.fq0(x);  x = None\\n        \\n         # File: /opt/miniconda3/lib/python3.10/site-packages/torch/fx/proxy.py:219 in create_proxy, code: proxy.node.stack_trace = ''.join(CapturedTraceback.extract().format())\\n        conv = self.conv(fq0);  fq0 = None\\n        \\n         # File: /opt/miniconda3/lib/python3.10/site-packages/torch/fx/proxy.py:219 in create_proxy, code: proxy.node.stack_trace = ''.join(CapturedTraceback.extract().format())\\n        bn = self.bn(conv);  conv = None\\n        \\n         # File: /opt/miniconda3/lib/python3.10/site-packages/torch/fx/proxy.py:219 in create_proxy, code: proxy.node.stack_trace = ''.join(CapturedTraceback.extract().format())\\n        relu = self.relu(bn);  bn = None\\n        \\n        # No stacktrace found for following nodes\\n        fq1 = self.fq1(relu);  relu = None\\n        \\n         # File: /opt/miniconda3/lib/python3.10/site-packages/torch/fx/proxy.py:219 in create_proxy, code: proxy.node.stack_trace = ''.join(CapturedTraceback.extract().format())\\n        conv1 = self.conv1(fq1);  fq1 = None\\n        \\n         # File: /opt/miniconda3/lib/python3.10/site-packages/torch/fx/proxy.py:219 in create_proxy, code: proxy.node.stack_trace = ''.join(CapturedTraceback.extract().format())\\n        bn1 = self.bn1(conv1);  conv1 = None\\n        \\n         # File: /opt/miniconda3/lib/python3.10/site-packages/torch/fx/proxy.py:219 in create_proxy, code: proxy.node.stack_trace = ''.join(CapturedTraceback.extract().format())\\n        relu1 = self.relu1(bn1);  bn1 = None\\n        return relu1\\n        \""
      ]
     },
     "execution_count": 5,
     "metadata": {},
     "output_type": "execute_result"
    }
   ],
   "source": [
    "graph_model = symbolic_trace(torch_model)\n",
    "quantizer = ModuleQuantizer()\n",
    "\n",
    "graph_model = quantizer.quantize(graph_model, [\n",
    "    {\n",
    "        'name': 'x',\n",
    "        'activation': FakeQuantize.with_args(observer=HistogramObserver),\n",
    "    },\n",
    "    {\n",
    "        'module_name': 'conv',\n",
    "        'weight': FakeQuantize.with_args(observer=PerChannelMinMaxObserver),\n",
    "    },\n",
    "    {\n",
    "        'module_name': 'relu',\n",
    "        'activation': FakeQuantize.with_args(observer=HistogramObserver),\n",
    "    },\n",
    "])\n",
    "graph_model.print_readable()"
   ]
  },
  {
   "cell_type": "markdown",
   "id": "34567694-ac3c-4e71-a33b-5274f87e72ab",
   "metadata": {},
   "source": [
    "# Finetune"
   ]
  },
  {
   "cell_type": "code",
   "execution_count": 6,
   "id": "bb0f7889-ac38-4cc6-8dcd-94356ba8d175",
   "metadata": {},
   "outputs": [
    {
     "name": "stderr",
     "output_type": "stream",
     "text": [
      "100%|█████████████████████████████████████████████████████████████████████████████████████████████████████████████████████████████████████████████████████████████████████████████████████████████████| 32/32 [00:08<00:00,  3.98it/s]\n",
      "100%|█████████████████████████████████████████████████████████████████████████████████████████████████████████████████████████████████████████████████████████████████████████████████████████████████| 32/32 [00:08<00:00,  3.73it/s]\n",
      "100%|█████████████████████████████████████████████████████████████████████████████████████████████████████████████████████████████████████████████████████████████████████████████████████████████████| 32/32 [00:07<00:00,  4.08it/s]\n",
      "100%|█████████████████████████████████████████████████████████████████████████████████████████████████████████████████████████████████████████████████████████████████████████████████████████████████| 32/32 [00:08<00:00,  3.99it/s]\n",
      "100%|█████████████████████████████████████████████████████████████████████████████████████████████████████████████████████████████████████████████████████████████████████████████████████████████████| 32/32 [00:07<00:00,  4.10it/s]\n",
      "100%|█████████████████████████████████████████████████████████████████████████████████████████████████████████████████████████████████████████████████████████████████████████████████████████████████| 32/32 [00:07<00:00,  4.05it/s]\n",
      "100%|█████████████████████████████████████████████████████████████████████████████████████████████████████████████████████████████████████████████████████████████████████████████████████████████████| 32/32 [00:08<00:00,  3.99it/s]\n",
      "100%|█████████████████████████████████████████████████████████████████████████████████████████████████████████████████████████████████████████████████████████████████████████████████████████████████| 32/32 [00:07<00:00,  4.07it/s]\n",
      "100%|█████████████████████████████████████████████████████████████████████████████████████████████████████████████████████████████████████████████████████████████████████████████████████████████████| 32/32 [00:08<00:00,  3.80it/s]\n",
      "100%|█████████████████████████████████████████████████████████████████████████████████████████████████████████████████████████████████████████████████████████████████████████████████████████████████| 32/32 [00:08<00:00,  3.93it/s]\n"
     ]
    }
   ],
   "source": [
    "dataloader = DataLoader(\n",
    "    DatasetUtils.take_front(\n",
    "        DatasetUtils.transform(\n",
    "            dataset,\n",
    "            lambda items: (items[0].to('cuda'),)\n",
    "        ),\n",
    "        2000\n",
    "    ),\n",
    "    batch_size=64\n",
    ")\n",
    "torch_model.to('cuda').eval()\n",
    "graph_model.to('cuda').train()\n",
    "\n",
    "loss_vals = []\n",
    "loss_fn = nn.MSELoss()\n",
    "optimizer = torch.optim.SGD(graph_model.parameters(), lr=1e-5)\n",
    "for _ in range(10):\n",
    "    local_loss = 0\n",
    "    for data in tqdm(dataloader):\n",
    "        gt = torch_model(*data)\n",
    "        pred = graph_model(*data)\n",
    "    \n",
    "        optimizer.zero_grad()\n",
    "        loss = loss_fn(pred, gt)\n",
    "        loss.backward()\n",
    "        optimizer.step()\n",
    "\n",
    "        local_loss += loss.detach().cpu().item()\n",
    "    loss_vals.append(local_loss)"
   ]
  },
  {
   "cell_type": "code",
   "execution_count": 7,
   "id": "c764365d-1cad-4190-aa08-b525ee13d1f9",
   "metadata": {},
   "outputs": [
    {
     "data": {
      "text/plain": [
       "[<matplotlib.lines.Line2D at 0x721c58104460>]"
      ]
     },
     "execution_count": 7,
     "metadata": {},
     "output_type": "execute_result"
    },
    {
     "data": {
      "image/png": "[encoded data removed]",
      "text/plain": [
       "<Figure size 640x480 with 1 Axes>"
      ]
     },
     "metadata": {},
     "output_type": "display_data"
    }
   ],
   "source": [
    "plt.plot(loss_vals)"
   ]
  },
  {
   "cell_type": "markdown",
   "id": "df327303-3ba3-48bb-9038-7309a0b27ba2",
   "metadata": {},
   "source": [
    "# Eval"
   ]
  },
  {
   "cell_type": "code",
   "execution_count": 8,
   "id": "146ee6fd-d03c-4f04-916e-91add7e0d30a",
   "metadata": {
    "scrolled": true
   },
   "outputs": [
    {
     "name": "stdout",
     "output_type": "stream",
     "text": [
      "tensor([[0.0418, 2.0151, 0.0000, 2.0151, 0.0207],\n",
      "        [0.0338, 2.3111, 0.0000, 2.3111, 0.0146],\n",
      "        [0.1417, 3.0094, 0.0000, 3.0094, 0.0471],\n",
      "        [0.0400, 2.7675, 0.0000, 2.7675, 0.0144],\n",
      "        [0.0583, 2.4683, 0.0000, 2.4683, 0.0236],\n",
      "        [0.0402, 2.4573, 0.0000, 2.4573, 0.0164],\n",
      "        [0.0475, 2.5253, 0.0000, 2.5253, 0.0188],\n",
      "        [0.0887, 2.1774, 0.0000, 2.1774, 0.0407],\n",
      "        [0.0461, 1.8306, 0.0000, 1.8306, 0.0252],\n",
      "        [0.0381, 2.6665, 0.0000, 2.6665, 0.0143],\n",
      "        [0.0360, 2.8793, 0.0000, 2.8793, 0.0125],\n",
      "        [0.0344, 2.0263, 0.0000, 2.0263, 0.0170],\n",
      "        [0.0357, 1.8881, 0.0000, 1.8881, 0.0189],\n",
      "        [0.1012, 2.2852, 0.0000, 2.2852, 0.0443],\n",
      "        [0.0400, 2.0962, 0.0000, 2.0962, 0.0191],\n",
      "        [0.0404, 2.3073, 0.0000, 2.3073, 0.0175],\n",
      "        [0.1462, 2.8827, 0.0000, 2.8827, 0.0507],\n",
      "        [0.0408, 2.9631, 0.0000, 2.9631, 0.0138],\n",
      "        [0.0413, 2.3654, 0.0000, 2.3654, 0.0175],\n",
      "        [0.0402, 2.4693, 0.0000, 2.4693, 0.0163],\n",
      "        [0.0353, 2.1242, 0.0000, 2.1242, 0.0166],\n",
      "        [0.0701, 1.9860, 0.0000, 1.9860, 0.0353],\n",
      "        [0.0297, 2.0989, 0.0000, 2.0989, 0.0141],\n",
      "        [0.0385, 2.9929, 0.0000, 2.9929, 0.0129],\n",
      "        [0.1552, 3.0747, 0.0000, 3.0747, 0.0505],\n",
      "        [0.0398, 2.1416, 0.0000, 2.1416, 0.0186],\n",
      "        [0.0351, 2.8724, 0.0000, 2.8724, 0.0122],\n",
      "        [0.0447, 2.4278, 0.0000, 2.4278, 0.0184],\n",
      "        [0.0368, 2.4851, 0.0000, 2.4851, 0.0148],\n",
      "        [0.0706, 2.6989, 0.0000, 2.6989, 0.0262],\n",
      "        [0.0452, 2.2810, 0.0000, 2.2810, 0.0198],\n",
      "        [0.1066, 2.6352, 0.0000, 2.6352, 0.0404],\n",
      "        [0.1412, 2.2035, 0.0000, 2.2035, 0.0641],\n",
      "        [0.0329, 2.0141, 0.0000, 2.0141, 0.0164],\n",
      "        [0.1984, 2.5218, 0.0000, 2.5218, 0.0787],\n",
      "        [0.2007, 2.8080, 0.0000, 2.8080, 0.0715],\n",
      "        [0.2293, 2.9071, 0.0000, 2.9071, 0.0789],\n",
      "        [0.1810, 2.3747, 0.0000, 2.3747, 0.0762],\n",
      "        [0.0400, 2.6349, 0.0000, 2.6349, 0.0152],\n",
      "        [0.0429, 2.4920, 0.0000, 2.4920, 0.0172],\n",
      "        [0.0381, 2.2426, 0.0000, 2.2426, 0.0170],\n",
      "        [0.0401, 2.7203, 0.0000, 2.7203, 0.0147],\n",
      "        [0.0414, 2.3282, 0.0000, 2.3282, 0.0178],\n",
      "        [0.0443, 2.1188, 0.0000, 2.1188, 0.0209],\n",
      "        [0.0354, 2.3368, 0.0000, 2.3368, 0.0151],\n",
      "        [0.0452, 1.6791, 0.0000, 1.6791, 0.0269],\n",
      "        [0.0357, 2.8018, 0.0000, 2.8018, 0.0128],\n",
      "        [0.0757, 2.1371, 0.0000, 2.1371, 0.0354],\n",
      "        [0.0379, 2.2447, 0.0000, 2.2447, 0.0169],\n",
      "        [0.0378, 1.8732, 0.0000, 1.8732, 0.0202],\n",
      "        [0.0363, 2.0527, 0.0000, 2.0527, 0.0177],\n",
      "        [0.0371, 2.3352, 0.0000, 2.3352, 0.0159],\n",
      "        [0.0433, 2.0548, 0.0000, 2.0548, 0.0211],\n",
      "        [0.0426, 1.9820, 0.0000, 1.9820, 0.0215],\n",
      "        [0.0423, 2.3141, 0.0000, 2.3141, 0.0183],\n",
      "        [0.0407, 2.6001, 0.0000, 2.6001, 0.0156],\n",
      "        [0.0426, 2.2054, 0.0000, 2.2054, 0.0193],\n",
      "        [0.0351, 2.3502, 0.0000, 2.3502, 0.0150],\n",
      "        [0.0359, 2.9556, 0.0000, 2.9556, 0.0122],\n",
      "        [0.0427, 2.5115, 0.0000, 2.5115, 0.0170],\n",
      "        [0.0443, 2.3223, 0.0000, 2.3223, 0.0191],\n",
      "        [0.0416, 1.8633, 0.0000, 1.8633, 0.0223],\n",
      "        [0.0403, 2.5900, 0.0000, 2.5900, 0.0156],\n",
      "        [0.0359, 1.9028, 0.0000, 1.9028, 0.0188]], device='cuda:0',\n",
      "       grad_fn=<CatBackward0>)\n"
     ]
    }
   ],
   "source": [
    "dataloader = DataLoader(\n",
    "    DatasetUtils.drop_front(\n",
    "        DatasetUtils.transform(\n",
    "            dataset,\n",
    "            lambda items: (items[0].to('cuda'),)\n",
    "        ),\n",
    "        2000\n",
    "    ),\n",
    "    batch_size=64\n",
    ")\n",
    "torch_model.to('cuda').eval()\n",
    "graph_model.to('cuda').eval()\n",
    "\n",
    "for data in dataloader:\n",
    "    gt = torch_model(*data)\n",
    "    pred = graph_model(*data)\n",
    "\n",
    "    gt = gt.flatten(start_dim=1).float()\n",
    "    pred = pred.flatten(start_dim=1).float()\n",
    "    \n",
    "    gt_max = gt.max(dim=1, keepdim=True)[0]\n",
    "    gt_min = gt.min(dim=1, keepdim=True)[0]\n",
    "    gt_range = gt_max - gt_min\n",
    "\n",
    "    diff = torch.sqrt(torch.pow(gt - pred, 2)).max(dim=1, keepdim=True)[0]\n",
    "    \n",
    "    ret = torch.cat([diff, gt_max, gt_min, gt_range, diff / gt_range], dim=1)\n",
    "    print(ret)\n",
    "    break"
   ]
  },
  {
   "cell_type": "markdown",
   "id": "1fac0588-1853-4f5a-a18b-5aba787f7d3e",
   "metadata": {},
   "source": [
    "# Export"
   ]
  },
  {
   "cell_type": "code",
   "execution_count": 9,
   "id": "28a29c56-a7c2-457e-8b50-a19b1520e1ce",
   "metadata": {
    "scrolled": true
   },
   "outputs": [
    {
     "name": "stdout",
     "output_type": "stream",
     "text": [
      "class GraphModule(torch.nn.Module):\n",
      "    def forward(self, x):\n",
      "        # No stacktrace found for following nodes\n",
      "        scale0 = self.scale0\n",
      "        zero_point0 = self.zero_point0\n",
      "        fake_quantize_per_tensor_affine = torch.fake_quantize_per_tensor_affine(x, scale0, zero_point0, 0, 255);  x = scale0 = zero_point0 = None\n",
      "        \n",
      "         # File: /opt/miniconda3/lib/python3.10/site-packages/torch/fx/proxy.py:219 in create_proxy, code: proxy.node.stack_trace = ''.join(CapturedTraceback.extract().format())\n",
      "        conv = self.conv(fake_quantize_per_tensor_affine);  fake_quantize_per_tensor_affine = None\n",
      "        \n",
      "         # File: /opt/miniconda3/lib/python3.10/site-packages/torch/fx/proxy.py:219 in create_proxy, code: proxy.node.stack_trace = ''.join(CapturedTraceback.extract().format())\n",
      "        bn = self.bn(conv);  conv = None\n",
      "        \n",
      "         # File: /opt/miniconda3/lib/python3.10/site-packages/torch/fx/proxy.py:219 in create_proxy, code: proxy.node.stack_trace = ''.join(CapturedTraceback.extract().format())\n",
      "        relu = self.relu(bn);  bn = None\n",
      "        \n",
      "        # No stacktrace found for following nodes\n",
      "        scale1 = self.scale1\n",
      "        zero_point1 = self.zero_point1\n",
      "        fake_quantize_per_tensor_affine_1 = torch.fake_quantize_per_tensor_affine(relu, scale1, zero_point1, 0, 255);  relu = scale1 = zero_point1 = None\n",
      "        \n",
      "         # File: /opt/miniconda3/lib/python3.10/site-packages/torch/fx/proxy.py:219 in create_proxy, code: proxy.node.stack_trace = ''.join(CapturedTraceback.extract().format())\n",
      "        conv1 = self.conv1(fake_quantize_per_tensor_affine_1);  fake_quantize_per_tensor_affine_1 = None\n",
      "        \n",
      "         # File: /opt/miniconda3/lib/python3.10/site-packages/torch/fx/proxy.py:219 in create_proxy, code: proxy.node.stack_trace = ''.join(CapturedTraceback.extract().format())\n",
      "        bn1 = self.bn1(conv1);  conv1 = None\n",
      "        \n",
      "         # File: /opt/miniconda3/lib/python3.10/site-packages/torch/fx/proxy.py:219 in create_proxy, code: proxy.node.stack_trace = ''.join(CapturedTraceback.extract().format())\n",
      "        relu1 = self.relu1(bn1);  bn1 = None\n",
      "        return relu1\n",
      "        \n"
     ]
    },
    {
     "data": {
      "text/plain": [
       "\"class GraphModule(torch.nn.Module):\\n    def forward(self, x):\\n        # No stacktrace found for following nodes\\n        scale0 = self.scale0\\n        zero_point0 = self.zero_point0\\n        fake_quantize_per_tensor_affine = torch.fake_quantize_per_tensor_affine(x, scale0, zero_point0, 0, 255);  x = scale0 = zero_point0 = None\\n        \\n         # File: /opt/miniconda3/lib/python3.10/site-packages/torch/fx/proxy.py:219 in create_proxy, code: proxy.node.stack_trace = ''.join(CapturedTraceback.extract().format())\\n        conv = self.conv(fake_quantize_per_tensor_affine);  fake_quantize_per_tensor_affine = None\\n        \\n         # File: /opt/miniconda3/lib/python3.10/site-packages/torch/fx/proxy.py:219 in create_proxy, code: proxy.node.stack_trace = ''.join(CapturedTraceback.extract().format())\\n        bn = self.bn(conv);  conv = None\\n        \\n         # File: /opt/miniconda3/lib/python3.10/site-packages/torch/fx/proxy.py:219 in create_proxy, code: proxy.node.stack_trace = ''.join(CapturedTraceback.extract().format())\\n        relu = self.relu(bn);  bn = None\\n        \\n        # No stacktrace found for following nodes\\n        scale1 = self.scale1\\n        zero_point1 = self.zero_point1\\n        fake_quantize_per_tensor_affine_1 = torch.fake_quantize_per_tensor_affine(relu, scale1, zero_point1, 0, 255);  relu = scale1 = zero_point1 = None\\n        \\n         # File: /opt/miniconda3/lib/python3.10/site-packages/torch/fx/proxy.py:219 in create_proxy, code: proxy.node.stack_trace = ''.join(CapturedTraceback.extract().format())\\n        conv1 = self.conv1(fake_quantize_per_tensor_affine_1);  fake_quantize_per_tensor_affine_1 = None\\n        \\n         # File: /opt/miniconda3/lib/python3.10/site-packages/torch/fx/proxy.py:219 in create_proxy, code: proxy.node.stack_trace = ''.join(CapturedTraceback.extract().format())\\n        bn1 = self.bn1(conv1);  conv1 = None\\n        \\n         # File: /opt/miniconda3/lib/python3.10/site-packages/torch/fx/proxy.py:219 in create_proxy, code: proxy.node.stack_trace = ''.join(CapturedTraceback.extract().format())\\n        relu1 = self.relu1(bn1);  bn1 = None\\n        return relu1\\n        \""
      ]
     },
     "execution_count": 9,
     "metadata": {},
     "output_type": "execute_result"
    }
   ],
   "source": [
    "finalized_model = quantizer.finalize(graph_model)\n",
    "finalized_model.to('cuda')\n",
    "\n",
    "finalized_model.print_readable()"
   ]
  },
  {
   "cell_type": "code",
   "execution_count": 10,
   "id": "4768c89f-1dcf-47fa-9b3a-bc552f5ff0a8",
   "metadata": {
    "scrolled": true
   },
   "outputs": [],
   "source": [
    "torch.onnx.export(\n",
    "    finalized_model,\n",
    "    tuple(next(iter(dataloader))),\n",
    "    qmodel_path,\n",
    "    input_names=['x'],\n",
    "    output_names=['y'],\n",
    ")\n",
    "torch.onnx.export(\n",
    "    torch_model,\n",
    "    tuple(next(iter(dataloader))),\n",
    "    model_path,\n",
    "    input_names=['x'],\n",
    "    output_names=['y'],\n",
    ")"
   ]
  }
 ],
 "metadata": {
  "kernelspec": {
   "display_name": "Python 3 (ipykernel)",
   "language": "python",
   "name": "python3"
  },
  "language_info": {
   "codemirror_mode": {
    "name": "ipython",
    "version": 3
   },
   "file_extension": ".py",
   "mimetype": "text/x-python",
   "name": "python",
   "nbconvert_exporter": "python",
   "pygments_lexer": "ipython3",
   "version": "3.10.4"
  }
 },
 "nbformat": 4,
 "nbformat_minor": 5
}
