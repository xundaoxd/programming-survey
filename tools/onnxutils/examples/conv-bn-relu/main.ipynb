{
 "cells": [
  {
   "cell_type": "code",
   "execution_count": 1,
   "id": "af936fda-6ca3-4a2e-a019-58bd51fca781",
   "metadata": {},
   "outputs": [],
   "source": [
    "dataset_path = '/home/ycgao/Workdir/dataset/imagenet-mini/val'\n",
    "qmodel_path = 'quantized.onnx'\n",
    "model_path = 'origin.onnx'"
   ]
  },
  {
   "cell_type": "code",
   "execution_count": 2,
   "id": "e6b3c837-dc4b-4ce8-befa-cccb37149da0",
   "metadata": {},
   "outputs": [],
   "source": [
    "from tqdm import tqdm\n",
    "import pickle\n",
    "\n",
    "import matplotlib.pyplot as plt\n",
    "\n",
    "import torch\n",
    "import torch.nn as nn\n",
    "from torch.utils.data import DataLoader\n",
    "\n",
    "from torch.ao.quantization.fake_quantize import FakeQuantize\n",
    "from torch.ao.quantization.observer import HistogramObserver, PerChannelMinMaxObserver\n",
    "\n",
    "from onnxutils.common import DatasetUtils\n",
    "from onnxutils.quantization import symbolic_trace, ModuleQuantizer\n",
    "\n",
    "from imagenet_pipeline import ImageNetPipeline"
   ]
  },
  {
   "cell_type": "markdown",
   "id": "e3794bf9-fed2-4dcc-ae38-83f64326688b",
   "metadata": {},
   "source": [
    "# Prepare"
   ]
  },
  {
   "cell_type": "code",
   "execution_count": 3,
   "id": "fce6c9e6-2531-43e3-9ff2-de20ab34042e",
   "metadata": {},
   "outputs": [],
   "source": [
    "class M(nn.Module):\n",
    "    def __init__(self):\n",
    "        super().__init__()\n",
    "        self.conv = nn.Conv2d(3, 3, 3, padding=1, bias=False)\n",
    "        self.bn = nn.BatchNorm2d(3)\n",
    "        self.relu = nn.ReLU()\n",
    "\n",
    "        self.conv0 = nn.Conv2d(3, 3, 3, padding=1, bias=False)\n",
    "        self.bn0 = nn.BatchNorm2d(3)\n",
    "        self.relu0 = nn.ReLU()\n",
    "\n",
    "        self.conv1 = nn.Conv2d(3, 3, 3, padding=1, bias=False)\n",
    "        self.bn1 = nn.BatchNorm2d(3)\n",
    "        self.relu1 = nn.ReLU()\n",
    "    def forward(self, x):\n",
    "        x = self.conv(x)\n",
    "        x = self.bn(x)\n",
    "        x = self.relu(x)\n",
    "\n",
    "        x = self.conv0(x)\n",
    "        x = self.bn0(x)\n",
    "        x = self.relu0(x)\n",
    "\n",
    "        x = self.conv1(x)\n",
    "        x = self.bn1(x)\n",
    "        x = self.relu1(x)\n",
    "        return x"
   ]
  },
  {
   "cell_type": "code",
   "execution_count": 4,
   "id": "a3e7206f-ab04-4742-bead-e499b1195837",
   "metadata": {},
   "outputs": [],
   "source": [
    "dataset = ImageNetPipeline.get_dataset(dataset_path)\n",
    "torch_model = M()\n",
    "\n",
    "torch_model.conv.reset_parameters()\n",
    "torch_model.bn.reset_parameters()\n",
    "\n",
    "torch_model.conv1.reset_parameters()\n",
    "torch_model.bn1.reset_parameters()"
   ]
  },
  {
   "cell_type": "markdown",
   "id": "4cc616b3-d9ae-433c-ba3e-1e5814efa61b",
   "metadata": {},
   "source": [
    "# Quantization"
   ]
  },
  {
   "cell_type": "code",
   "execution_count": 5,
   "id": "35a5870c-a26f-4ade-b10f-63ee258804ac",
   "metadata": {},
   "outputs": [
    {
     "data": {
      "text/plain": [
       "(134552797701728, 134552797701728, False)"
      ]
     },
     "execution_count": 5,
     "metadata": {},
     "output_type": "execute_result"
    }
   ],
   "source": [
    "graph_model = pickle.loads(pickle.dumps(torch_model))\n",
    "id(graph_model.conv.weight.data), id(torch_model.conv.weight.data), graph_model.conv.weight.data is torch_model.conv.weight.data"
   ]
  },
  {
   "cell_type": "code",
   "execution_count": 6,
   "id": "b02d0629-7b6e-4e34-8678-18b7c698c6fb",
   "metadata": {
    "scrolled": true
   },
   "outputs": [
    {
     "name": "stdout",
     "output_type": "stream",
     "text": [
      "class GraphModule(torch.nn.Module):\n",
      "    def forward(self, x):\n",
      "         # File: /opt/miniconda3/lib/python3.10/site-packages/torch/fx/proxy.py:219 in create_proxy, code: proxy.node.stack_trace = ''.join(CapturedTraceback.extract().format())\n",
      "        conv = self.conv(x);  x = None\n",
      "        \n",
      "         # File: /opt/miniconda3/lib/python3.10/site-packages/torch/fx/proxy.py:219 in create_proxy, code: proxy.node.stack_trace = ''.join(CapturedTraceback.extract().format())\n",
      "        bn = self.bn(conv);  conv = None\n",
      "        \n",
      "         # File: /opt/miniconda3/lib/python3.10/site-packages/torch/fx/proxy.py:219 in create_proxy, code: proxy.node.stack_trace = ''.join(CapturedTraceback.extract().format())\n",
      "        relu = self.relu(bn);  bn = None\n",
      "        \n",
      "         # File: /opt/miniconda3/lib/python3.10/site-packages/torch/fx/proxy.py:219 in create_proxy, code: proxy.node.stack_trace = ''.join(CapturedTraceback.extract().format())\n",
      "        conv0 = self.conv0(relu);  relu = None\n",
      "        \n",
      "         # File: /opt/miniconda3/lib/python3.10/site-packages/torch/fx/proxy.py:219 in create_proxy, code: proxy.node.stack_trace = ''.join(CapturedTraceback.extract().format())\n",
      "        bn0 = self.bn0(conv0);  conv0 = None\n",
      "        \n",
      "         # File: /opt/miniconda3/lib/python3.10/site-packages/torch/fx/proxy.py:219 in create_proxy, code: proxy.node.stack_trace = ''.join(CapturedTraceback.extract().format())\n",
      "        relu0 = self.relu0(bn0);  bn0 = None\n",
      "        \n",
      "         # File: /opt/miniconda3/lib/python3.10/site-packages/torch/fx/proxy.py:219 in create_proxy, code: proxy.node.stack_trace = ''.join(CapturedTraceback.extract().format())\n",
      "        conv1 = self.conv1(relu0);  relu0 = None\n",
      "        \n",
      "         # File: /opt/miniconda3/lib/python3.10/site-packages/torch/fx/proxy.py:219 in create_proxy, code: proxy.node.stack_trace = ''.join(CapturedTraceback.extract().format())\n",
      "        bn1 = self.bn1(conv1);  conv1 = None\n",
      "        \n",
      "         # File: /opt/miniconda3/lib/python3.10/site-packages/torch/fx/proxy.py:219 in create_proxy, code: proxy.node.stack_trace = ''.join(CapturedTraceback.extract().format())\n",
      "        relu1 = self.relu1(bn1);  bn1 = None\n",
      "        return relu1\n",
      "        \n"
     ]
    },
    {
     "data": {
      "text/plain": [
       "\"class GraphModule(torch.nn.Module):\\n    def forward(self, x):\\n         # File: /opt/miniconda3/lib/python3.10/site-packages/torch/fx/proxy.py:219 in create_proxy, code: proxy.node.stack_trace = ''.join(CapturedTraceback.extract().format())\\n        conv = self.conv(x);  x = None\\n        \\n         # File: /opt/miniconda3/lib/python3.10/site-packages/torch/fx/proxy.py:219 in create_proxy, code: proxy.node.stack_trace = ''.join(CapturedTraceback.extract().format())\\n        bn = self.bn(conv);  conv = None\\n        \\n         # File: /opt/miniconda3/lib/python3.10/site-packages/torch/fx/proxy.py:219 in create_proxy, code: proxy.node.stack_trace = ''.join(CapturedTraceback.extract().format())\\n        relu = self.relu(bn);  bn = None\\n        \\n         # File: /opt/miniconda3/lib/python3.10/site-packages/torch/fx/proxy.py:219 in create_proxy, code: proxy.node.stack_trace = ''.join(CapturedTraceback.extract().format())\\n        conv0 = self.conv0(relu);  relu = None\\n        \\n         # File: /opt/miniconda3/lib/python3.10/site-packages/torch/fx/proxy.py:219 in create_proxy, code: proxy.node.stack_trace = ''.join(CapturedTraceback.extract().format())\\n        bn0 = self.bn0(conv0);  conv0 = None\\n        \\n         # File: /opt/miniconda3/lib/python3.10/site-packages/torch/fx/proxy.py:219 in create_proxy, code: proxy.node.stack_trace = ''.join(CapturedTraceback.extract().format())\\n        relu0 = self.relu0(bn0);  bn0 = None\\n        \\n         # File: /opt/miniconda3/lib/python3.10/site-packages/torch/fx/proxy.py:219 in create_proxy, code: proxy.node.stack_trace = ''.join(CapturedTraceback.extract().format())\\n        conv1 = self.conv1(relu0);  relu0 = None\\n        \\n         # File: /opt/miniconda3/lib/python3.10/site-packages/torch/fx/proxy.py:219 in create_proxy, code: proxy.node.stack_trace = ''.join(CapturedTraceback.extract().format())\\n        bn1 = self.bn1(conv1);  conv1 = None\\n        \\n         # File: /opt/miniconda3/lib/python3.10/site-packages/torch/fx/proxy.py:219 in create_proxy, code: proxy.node.stack_trace = ''.join(CapturedTraceback.extract().format())\\n        relu1 = self.relu1(bn1);  bn1 = None\\n        return relu1\\n        \""
      ]
     },
     "execution_count": 6,
     "metadata": {},
     "output_type": "execute_result"
    }
   ],
   "source": [
    "graph_model = symbolic_trace(graph_model)\n",
    "\n",
    "quantizer = ModuleQuantizer()\n",
    "graph_model = quantizer.quantize(graph_model, [\n",
    "    # {\n",
    "    #     'name': 'x',\n",
    "    #     'activation': FakeQuantize.with_args(observer=HistogramObserver),\n",
    "    # },\n",
    "    {\n",
    "        'module_name': 'conv0',\n",
    "        'weight': FakeQuantize.with_args(observer=PerChannelMinMaxObserver),\n",
    "    },\n",
    "    # {\n",
    "    #     'module_name': 'relu',\n",
    "    #     'activation': FakeQuantize.with_args(observer=HistogramObserver),\n",
    "    # },\n",
    "])\n",
    "\n",
    "graph_model.print_readable()"
   ]
  },
  {
   "cell_type": "markdown",
   "id": "34567694-ac3c-4e71-a33b-5274f87e72ab",
   "metadata": {},
   "source": [
    "# Finetune"
   ]
  },
  {
   "cell_type": "code",
   "execution_count": 7,
   "id": "bb0f7889-ac38-4cc6-8dcd-94356ba8d175",
   "metadata": {
    "scrolled": true
   },
   "outputs": [
    {
     "name": "stderr",
     "output_type": "stream",
     "text": [
      "100%|██████████████████████████████████████████████████| 32/32 [00:07<00:00,  4.19it/s]\n",
      "100%|██████████████████████████████████████████████████| 32/32 [00:07<00:00,  4.36it/s]\n",
      "100%|██████████████████████████████████████████████████| 32/32 [00:07<00:00,  4.31it/s]\n",
      "100%|██████████████████████████████████████████████████| 32/32 [00:08<00:00,  3.98it/s]\n",
      "100%|██████████████████████████████████████████████████| 32/32 [00:08<00:00,  3.70it/s]\n",
      "100%|██████████████████████████████████████████████████| 32/32 [00:08<00:00,  3.82it/s]\n",
      "100%|██████████████████████████████████████████████████| 32/32 [00:07<00:00,  4.08it/s]\n",
      "100%|██████████████████████████████████████████████████| 32/32 [00:07<00:00,  4.25it/s]\n",
      "100%|██████████████████████████████████████████████████| 32/32 [00:07<00:00,  4.26it/s]\n",
      "100%|██████████████████████████████████████████████████| 32/32 [00:07<00:00,  4.18it/s]\n",
      "100%|██████████████████████████████████████████████████| 32/32 [00:07<00:00,  4.20it/s]\n",
      "100%|██████████████████████████████████████████████████| 32/32 [00:07<00:00,  4.25it/s]\n",
      "100%|██████████████████████████████████████████████████| 32/32 [00:07<00:00,  4.25it/s]\n",
      "100%|██████████████████████████████████████████████████| 32/32 [00:07<00:00,  4.24it/s]\n",
      "100%|██████████████████████████████████████████████████| 32/32 [00:07<00:00,  4.13it/s]\n",
      "100%|██████████████████████████████████████████████████| 32/32 [00:07<00:00,  4.19it/s]\n",
      "100%|██████████████████████████████████████████████████| 32/32 [00:07<00:00,  4.08it/s]\n",
      "100%|██████████████████████████████████████████████████| 32/32 [00:07<00:00,  4.07it/s]\n",
      "100%|██████████████████████████████████████████████████| 32/32 [00:09<00:00,  3.40it/s]\n",
      "100%|██████████████████████████████████████████████████| 32/32 [00:08<00:00,  3.78it/s]\n",
      "100%|██████████████████████████████████████████████████| 32/32 [00:07<00:00,  4.07it/s]\n",
      "100%|██████████████████████████████████████████████████| 32/32 [00:07<00:00,  4.07it/s]\n",
      "100%|██████████████████████████████████████████████████| 32/32 [00:08<00:00,  3.68it/s]\n",
      "100%|██████████████████████████████████████████████████| 32/32 [00:07<00:00,  4.01it/s]\n",
      "100%|██████████████████████████████████████████████████| 32/32 [00:07<00:00,  4.09it/s]\n",
      "100%|██████████████████████████████████████████████████| 32/32 [00:08<00:00,  3.73it/s]\n",
      "100%|██████████████████████████████████████████████████| 32/32 [00:07<00:00,  4.18it/s]\n",
      "100%|██████████████████████████████████████████████████| 32/32 [00:07<00:00,  4.15it/s]\n",
      "100%|██████████████████████████████████████████████████| 32/32 [00:07<00:00,  4.23it/s]\n",
      "100%|██████████████████████████████████████████████████| 32/32 [00:08<00:00,  3.93it/s]\n"
     ]
    }
   ],
   "source": [
    "dataloader = DataLoader(\n",
    "    DatasetUtils.take_front(\n",
    "        DatasetUtils.transform(\n",
    "            dataset,\n",
    "            lambda items: (items[0].to('cuda'),)\n",
    "        ),\n",
    "        2000\n",
    "    ),\n",
    "    batch_size=64\n",
    ")\n",
    "torch_model.to('cuda').eval()\n",
    "graph_model.to('cuda').train()\n",
    "\n",
    "loss_vals = []\n",
    "loss_fn = nn.MSELoss()\n",
    "optimizer = torch.optim.SGD(graph_model.parameters(), lr=1e-2)\n",
    "for _ in range(30):\n",
    "    local_loss = 0\n",
    "    for data in tqdm(dataloader):\n",
    "        gt = torch_model(*data)\n",
    "        pred = graph_model(*data)\n",
    "    \n",
    "        optimizer.zero_grad()\n",
    "        loss = loss_fn(pred, gt)\n",
    "        loss.backward()\n",
    "        optimizer.step()\n",
    "\n",
    "        loss_vals.append(loss.detach().cpu().item())\n",
    "\n",
    "    #     local_loss += loss.detach().cpu().item()\n",
    "    # loss_vals.append(local_loss)"
   ]
  },
  {
   "cell_type": "code",
   "execution_count": 8,
   "id": "c764365d-1cad-4190-aa08-b525ee13d1f9",
   "metadata": {},
   "outputs": [
    {
     "data": {
      "text/plain": [
       "[<matplotlib.lines.Line2D at 0x7a6000510a90>]"
      ]
     },
     "execution_count": 8,
     "metadata": {},
     "output_type": "execute_result"
    },
    {
     "data": {
      "image/png": "[encoded data removed]",
      "text/plain": [
       "<Figure size 640x480 with 1 Axes>"
      ]
     },
     "metadata": {},
     "output_type": "display_data"
    }
   ],
   "source": [
    "plt.plot(loss_vals)"
   ]
  },
  {
   "cell_type": "markdown",
   "id": "df327303-3ba3-48bb-9038-7309a0b27ba2",
   "metadata": {},
   "source": [
    "# Eval"
   ]
  },
  {
   "cell_type": "code",
   "execution_count": 9,
   "id": "146ee6fd-d03c-4f04-916e-91add7e0d30a",
   "metadata": {
    "scrolled": true
   },
   "outputs": [
    {
     "name": "stdout",
     "output_type": "stream",
     "text": [
      "tensor([0.1870, 0.0000, 0.0070, 0.1870, 0.5640, 0.0101], device='cuda:0',\n",
      "       grad_fn=<UnbindBackward0>)\n",
      "tensor([0.2515, 0.0000, 0.0092, 0.2515, 0.4576, 0.0115], device='cuda:0',\n",
      "       grad_fn=<UnbindBackward0>)\n",
      "tensor([0.4060, 0.0000, 0.0141, 0.4060, 0.6768, 0.0158], device='cuda:0',\n",
      "       grad_fn=<UnbindBackward0>)\n",
      "tensor([0.3460, 0.0000, 0.0121, 0.3460, 0.6236, 0.0126], device='cuda:0',\n",
      "       grad_fn=<UnbindBackward0>)\n",
      "tensor([0.3063, 0.0000, 0.0113, 0.3063, 0.3866, 0.0118], device='cuda:0',\n",
      "       grad_fn=<UnbindBackward0>)\n",
      "tensor([0.3713, 0.0000, 0.0120, 0.3713, 0.5235, 0.0128], device='cuda:0',\n",
      "       grad_fn=<UnbindBackward0>)\n",
      "tensor([0.3228, 0.0000, 0.0124, 0.3228, 0.7279, 0.0128], device='cuda:0',\n",
      "       grad_fn=<UnbindBackward0>)\n",
      "tensor([0.3470, 0.0000, 0.0060, 0.3470, 0.7871, 0.0066], device='cuda:0',\n",
      "       grad_fn=<UnbindBackward0>)\n",
      "tensor([0.1841, 0.0000, 0.0078, 0.1841, 0.4412, 0.0106], device='cuda:0',\n",
      "       grad_fn=<UnbindBackward0>)\n",
      "tensor([0.3040, 0.0000, 0.0104, 0.3040, 0.6318, 0.0111], device='cuda:0',\n",
      "       grad_fn=<UnbindBackward0>)\n",
      "tensor([0.2646, 0.0000, 0.0126, 0.2646, 0.4133, 0.0134], device='cuda:0',\n",
      "       grad_fn=<UnbindBackward0>)\n",
      "tensor([0.2347, 0.0000, 0.0072, 0.2347, 0.3865, 0.0075], device='cuda:0',\n",
      "       grad_fn=<UnbindBackward0>)\n",
      "tensor([0.2048, 0.0000, 0.0098, 0.2048, 0.3819, 0.0103], device='cuda:0',\n",
      "       grad_fn=<UnbindBackward0>)\n",
      "tensor([0.3127, 0.0000, 0.0079, 0.3127, 0.4594, 0.0086], device='cuda:0',\n",
      "       grad_fn=<UnbindBackward0>)\n",
      "tensor([0.2890, 0.0000, 0.0071, 0.2890, 0.4868, 0.0084], device='cuda:0',\n",
      "       grad_fn=<UnbindBackward0>)\n",
      "tensor([0.3529, 0.0000, 0.0114, 0.3529, 0.3754, 0.0120], device='cuda:0',\n",
      "       grad_fn=<UnbindBackward0>)\n",
      "tensor([0.3718, 0.0000, 0.0129, 0.3718, 0.8377, 0.0151], device='cuda:0',\n",
      "       grad_fn=<UnbindBackward0>)\n",
      "tensor([0.2966, 0.0000, 0.0102, 0.2966, 0.6987, 0.0116], device='cuda:0',\n",
      "       grad_fn=<UnbindBackward0>)\n",
      "tensor([0.3686, 0.0000, 0.0084, 0.3686, 0.5847, 0.0097], device='cuda:0',\n",
      "       grad_fn=<UnbindBackward0>)\n",
      "tensor([0.3423, 0.0000, 0.0188, 0.3423, 0.7962, 0.0197], device='cuda:0',\n",
      "       grad_fn=<UnbindBackward0>)\n",
      "tensor([0.2465, 0.0000, 0.0058, 0.2465, 0.4446, 0.0064], device='cuda:0',\n",
      "       grad_fn=<UnbindBackward0>)\n",
      "tensor([0.2747, 0.0000, 0.0070, 0.2747, 0.3491, 0.0081], device='cuda:0',\n",
      "       grad_fn=<UnbindBackward0>)\n",
      "tensor([0.2196, 0.0000, 0.0032, 0.2196, 0.2622, 0.0034], device='cuda:0',\n",
      "       grad_fn=<UnbindBackward0>)\n",
      "tensor([0.5378, 0.0000, 0.0175, 0.5378, 0.5250, 0.0181], device='cuda:0',\n",
      "       grad_fn=<UnbindBackward0>)\n",
      "tensor([0.3922, 0.0000, 0.0133, 0.3922, 0.7330, 0.0151], device='cuda:0',\n",
      "       grad_fn=<UnbindBackward0>)\n",
      "tensor([0.2582, 0.0000, 0.0068, 0.2582, 0.4869, 0.0083], device='cuda:0',\n",
      "       grad_fn=<UnbindBackward0>)\n",
      "tensor([0.2574, 0.0000, 0.0055, 0.2574, 0.4826, 0.0070], device='cuda:0',\n",
      "       grad_fn=<UnbindBackward0>)\n",
      "tensor([0.2955, 0.0000, 0.0096, 0.2955, 0.3548, 0.0120], device='cuda:0',\n",
      "       grad_fn=<UnbindBackward0>)\n",
      "tensor([0.2810, 0.0000, 0.0080, 0.2810, 0.7334, 0.0097], device='cuda:0',\n",
      "       grad_fn=<UnbindBackward0>)\n",
      "tensor([0.3732, 0.0000, 0.0141, 0.3732, 0.6550, 0.0155], device='cuda:0',\n",
      "       grad_fn=<UnbindBackward0>)\n",
      "tensor([0.2530, 0.0000, 0.0089, 0.2530, 0.5072, 0.0141], device='cuda:0',\n",
      "       grad_fn=<UnbindBackward0>)\n",
      "tensor([0.3520, 0.0000, 0.0076, 0.3520, 0.6643, 0.0086], device='cuda:0',\n",
      "       grad_fn=<UnbindBackward0>)\n",
      "tensor([0.3224, 0.0000, 0.0110, 0.3224, 0.3655, 0.0118], device='cuda:0',\n",
      "       grad_fn=<UnbindBackward0>)\n",
      "tensor([0.2613, 0.0000, 0.0084, 0.2613, 0.2840, 0.0087], device='cuda:0',\n",
      "       grad_fn=<UnbindBackward0>)\n",
      "tensor([0.3871, 0.0000, 0.0115, 0.3871, 0.4410, 0.0123], device='cuda:0',\n",
      "       grad_fn=<UnbindBackward0>)\n",
      "tensor([0.3662, 0.0000, 0.0149, 0.3662, 0.5317, 0.0155], device='cuda:0',\n",
      "       grad_fn=<UnbindBackward0>)\n",
      "tensor([0.3990, 0.0000, 0.0128, 0.3990, 0.6852, 0.0135], device='cuda:0',\n",
      "       grad_fn=<UnbindBackward0>)\n",
      "tensor([0.3007, 0.0000, 0.0091, 0.3007, 0.5111, 0.0118], device='cuda:0',\n",
      "       grad_fn=<UnbindBackward0>)\n",
      "tensor([0.2455, 0.0000, 0.0130, 0.2455, 0.5945, 0.0145], device='cuda:0',\n",
      "       grad_fn=<UnbindBackward0>)\n",
      "tensor([0.2514, 0.0000, 0.0082, 0.2514, 0.4371, 0.0124], device='cuda:0',\n",
      "       grad_fn=<UnbindBackward0>)\n",
      "tensor([0.2533, 0.0000, 0.0086, 0.2533, 0.4553, 0.0096], device='cuda:0',\n",
      "       grad_fn=<UnbindBackward0>)\n",
      "tensor([0.3030, 0.0000, 0.0124, 0.3030, 0.4900, 0.0143], device='cuda:0',\n",
      "       grad_fn=<UnbindBackward0>)\n",
      "tensor([0.3026, 0.0000, 0.0083, 0.3026, 0.3404, 0.0099], device='cuda:0',\n",
      "       grad_fn=<UnbindBackward0>)\n",
      "tensor([0.2945, 0.0000, 0.0089, 0.2945, 0.4152, 0.0103], device='cuda:0',\n",
      "       grad_fn=<UnbindBackward0>)\n",
      "tensor([0.2862, 0.0000, 0.0081, 0.2862, 0.3470, 0.0101], device='cuda:0',\n",
      "       grad_fn=<UnbindBackward0>)\n",
      "tensor([0.1646, 0.0000, 0.0048, 0.1646, 0.2544, 0.0078], device='cuda:0',\n",
      "       grad_fn=<UnbindBackward0>)\n",
      "tensor([0.2681, 0.0000, 0.0044, 0.2681, 0.5764, 0.0058], device='cuda:0',\n",
      "       grad_fn=<UnbindBackward0>)\n",
      "tensor([0.2588, 0.0000, 0.0060, 0.2588, 0.5555, 0.0112], device='cuda:0',\n",
      "       grad_fn=<UnbindBackward0>)\n",
      "tensor([0.2474, 0.0000, 0.0063, 0.2474, 0.7950, 0.0074], device='cuda:0',\n",
      "       grad_fn=<UnbindBackward0>)\n",
      "tensor([0.1797, 0.0000, 0.0067, 0.1797, 0.5096, 0.0095], device='cuda:0',\n",
      "       grad_fn=<UnbindBackward0>)\n",
      "tensor([0.2315, 0.0000, 0.0096, 0.2315, 0.4951, 0.0110], device='cuda:0',\n",
      "       grad_fn=<UnbindBackward0>)\n",
      "tensor([0.2471, 0.0000, 0.0054, 0.2471, 0.4662, 0.0065], device='cuda:0',\n",
      "       grad_fn=<UnbindBackward0>)\n",
      "tensor([0.2160, 0.0000, 0.0087, 0.2160, 0.3943, 0.0101], device='cuda:0',\n",
      "       grad_fn=<UnbindBackward0>)\n",
      "tensor([0.1865, 0.0000, 0.0044, 0.1865, 0.4183, 0.0060], device='cuda:0',\n",
      "       grad_fn=<UnbindBackward0>)\n",
      "tensor([0.2911, 0.0000, 0.0113, 0.2911, 0.3698, 0.0127], device='cuda:0',\n",
      "       grad_fn=<UnbindBackward0>)\n",
      "tensor([0.2394, 0.0000, 0.0100, 0.2394, 0.4527, 0.0118], device='cuda:0',\n",
      "       grad_fn=<UnbindBackward0>)\n",
      "tensor([0.3083, 0.0000, 0.0061, 0.3083, 0.3202, 0.0075], device='cuda:0',\n",
      "       grad_fn=<UnbindBackward0>)\n",
      "tensor([0.2461, 0.0000, 0.0053, 0.2461, 0.4792, 0.0069], device='cuda:0',\n",
      "       grad_fn=<UnbindBackward0>)\n",
      "tensor([0.3050, 0.0000, 0.0142, 0.3050, 0.8937, 0.0158], device='cuda:0',\n",
      "       grad_fn=<UnbindBackward0>)\n",
      "tensor([0.2851, 0.0000, 0.0088, 0.2851, 0.6349, 0.0107], device='cuda:0',\n",
      "       grad_fn=<UnbindBackward0>)\n",
      "tensor([0.1994, 0.0000, 0.0073, 0.1994, 0.3645, 0.0081], device='cuda:0',\n",
      "       grad_fn=<UnbindBackward0>)\n",
      "tensor([0.1816, 0.0000, 0.0052, 0.1816, 0.4843, 0.0059], device='cuda:0',\n",
      "       grad_fn=<UnbindBackward0>)\n",
      "tensor([0.2565, 0.0000, 0.0087, 0.2565, 0.5875, 0.0110], device='cuda:0',\n",
      "       grad_fn=<UnbindBackward0>)\n",
      "tensor([0.1874, 0.0000, 0.0060, 0.1874, 0.5063, 0.0086], device='cuda:0',\n",
      "       grad_fn=<UnbindBackward0>)\n"
     ]
    }
   ],
   "source": [
    "dataloader = DataLoader(\n",
    "    DatasetUtils.drop_front(\n",
    "        DatasetUtils.transform(\n",
    "            dataset,\n",
    "            lambda items: (items[0].to('cuda'),)\n",
    "        ),\n",
    "        2000\n",
    "    ),\n",
    "    batch_size=64\n",
    ")\n",
    "torch_model.to('cuda').eval()\n",
    "graph_model.to('cuda').eval()\n",
    "\n",
    "for data in dataloader:\n",
    "    gt = torch_model(*data)\n",
    "    pred = graph_model(*data)\n",
    "\n",
    "    gt = gt.flatten(start_dim=1).float()\n",
    "    pred = pred.flatten(start_dim=1).float()\n",
    "    \n",
    "    gt_max = gt.max(dim=1, keepdim=True)[0]\n",
    "    gt_min = gt.min(dim=1, keepdim=True)[0]\n",
    "    gt_mean = gt.mean(dim=1, keepdim=True)\n",
    "    gt_range = gt_max - gt_min\n",
    "\n",
    "    diff = torch.sqrt(torch.pow(gt - pred, 2))\n",
    "    diff_max = diff.max(dim=1, keepdim=True)[0]\n",
    "    diff_mean = diff.mean(dim=1, keepdim=True)\n",
    "    \n",
    "    items = torch.cat([gt_max, gt_min, gt_mean, gt_range, diff_max, diff_mean], dim=1)\n",
    "    for item in items:\n",
    "        print(item)\n",
    "    break"
   ]
  },
  {
   "cell_type": "markdown",
   "id": "1fac0588-1853-4f5a-a18b-5aba787f7d3e",
   "metadata": {},
   "source": [
    "# Export"
   ]
  },
  {
   "cell_type": "code",
   "execution_count": 10,
   "id": "28a29c56-a7c2-457e-8b50-a19b1520e1ce",
   "metadata": {
    "scrolled": true
   },
   "outputs": [
    {
     "name": "stdout",
     "output_type": "stream",
     "text": [
      "class GraphModule(torch.nn.Module):\n",
      "    def forward(self, x):\n",
      "         # File: /opt/miniconda3/lib/python3.10/site-packages/torch/fx/proxy.py:219 in create_proxy, code: proxy.node.stack_trace = ''.join(CapturedTraceback.extract().format())\n",
      "        conv = self.conv(x);  x = None\n",
      "        \n",
      "         # File: /opt/miniconda3/lib/python3.10/site-packages/torch/fx/proxy.py:219 in create_proxy, code: proxy.node.stack_trace = ''.join(CapturedTraceback.extract().format())\n",
      "        bn = self.bn(conv);  conv = None\n",
      "        \n",
      "         # File: /opt/miniconda3/lib/python3.10/site-packages/torch/fx/proxy.py:219 in create_proxy, code: proxy.node.stack_trace = ''.join(CapturedTraceback.extract().format())\n",
      "        relu = self.relu(bn);  bn = None\n",
      "        \n",
      "         # File: /opt/miniconda3/lib/python3.10/site-packages/torch/fx/proxy.py:219 in create_proxy, code: proxy.node.stack_trace = ''.join(CapturedTraceback.extract().format())\n",
      "        conv0 = self.conv0(relu);  relu = None\n",
      "        \n",
      "         # File: /opt/miniconda3/lib/python3.10/site-packages/torch/fx/proxy.py:219 in create_proxy, code: proxy.node.stack_trace = ''.join(CapturedTraceback.extract().format())\n",
      "        bn0 = self.bn0(conv0);  conv0 = None\n",
      "        \n",
      "         # File: /opt/miniconda3/lib/python3.10/site-packages/torch/fx/proxy.py:219 in create_proxy, code: proxy.node.stack_trace = ''.join(CapturedTraceback.extract().format())\n",
      "        relu0 = self.relu0(bn0);  bn0 = None\n",
      "        \n",
      "         # File: /opt/miniconda3/lib/python3.10/site-packages/torch/fx/proxy.py:219 in create_proxy, code: proxy.node.stack_trace = ''.join(CapturedTraceback.extract().format())\n",
      "        conv1 = self.conv1(relu0);  relu0 = None\n",
      "        \n",
      "         # File: /opt/miniconda3/lib/python3.10/site-packages/torch/fx/proxy.py:219 in create_proxy, code: proxy.node.stack_trace = ''.join(CapturedTraceback.extract().format())\n",
      "        bn1 = self.bn1(conv1);  conv1 = None\n",
      "        \n",
      "         # File: /opt/miniconda3/lib/python3.10/site-packages/torch/fx/proxy.py:219 in create_proxy, code: proxy.node.stack_trace = ''.join(CapturedTraceback.extract().format())\n",
      "        relu1 = self.relu1(bn1);  bn1 = None\n",
      "        return relu1\n",
      "        \n"
     ]
    },
    {
     "data": {
      "text/plain": [
       "\"class GraphModule(torch.nn.Module):\\n    def forward(self, x):\\n         # File: /opt/miniconda3/lib/python3.10/site-packages/torch/fx/proxy.py:219 in create_proxy, code: proxy.node.stack_trace = ''.join(CapturedTraceback.extract().format())\\n        conv = self.conv(x);  x = None\\n        \\n         # File: /opt/miniconda3/lib/python3.10/site-packages/torch/fx/proxy.py:219 in create_proxy, code: proxy.node.stack_trace = ''.join(CapturedTraceback.extract().format())\\n        bn = self.bn(conv);  conv = None\\n        \\n         # File: /opt/miniconda3/lib/python3.10/site-packages/torch/fx/proxy.py:219 in create_proxy, code: proxy.node.stack_trace = ''.join(CapturedTraceback.extract().format())\\n        relu = self.relu(bn);  bn = None\\n        \\n         # File: /opt/miniconda3/lib/python3.10/site-packages/torch/fx/proxy.py:219 in create_proxy, code: proxy.node.stack_trace = ''.join(CapturedTraceback.extract().format())\\n        conv0 = self.conv0(relu);  relu = None\\n        \\n         # File: /opt/miniconda3/lib/python3.10/site-packages/torch/fx/proxy.py:219 in create_proxy, code: proxy.node.stack_trace = ''.join(CapturedTraceback.extract().format())\\n        bn0 = self.bn0(conv0);  conv0 = None\\n        \\n         # File: /opt/miniconda3/lib/python3.10/site-packages/torch/fx/proxy.py:219 in create_proxy, code: proxy.node.stack_trace = ''.join(CapturedTraceback.extract().format())\\n        relu0 = self.relu0(bn0);  bn0 = None\\n        \\n         # File: /opt/miniconda3/lib/python3.10/site-packages/torch/fx/proxy.py:219 in create_proxy, code: proxy.node.stack_trace = ''.join(CapturedTraceback.extract().format())\\n        conv1 = self.conv1(relu0);  relu0 = None\\n        \\n         # File: /opt/miniconda3/lib/python3.10/site-packages/torch/fx/proxy.py:219 in create_proxy, code: proxy.node.stack_trace = ''.join(CapturedTraceback.extract().format())\\n        bn1 = self.bn1(conv1);  conv1 = None\\n        \\n         # File: /opt/miniconda3/lib/python3.10/site-packages/torch/fx/proxy.py:219 in create_proxy, code: proxy.node.stack_trace = ''.join(CapturedTraceback.extract().format())\\n        relu1 = self.relu1(bn1);  bn1 = None\\n        return relu1\\n        \""
      ]
     },
     "execution_count": 10,
     "metadata": {},
     "output_type": "execute_result"
    }
   ],
   "source": [
    "finalized_model = quantizer.finalize(graph_model)\n",
    "finalized_model.to('cuda')\n",
    "\n",
    "finalized_model.print_readable()"
   ]
  },
  {
   "cell_type": "code",
   "execution_count": 11,
   "id": "4768c89f-1dcf-47fa-9b3a-bc552f5ff0a8",
   "metadata": {
    "scrolled": true
   },
   "outputs": [],
   "source": [
    "torch.onnx.export(\n",
    "    finalized_model,\n",
    "    tuple(next(iter(dataloader))),\n",
    "    qmodel_path,\n",
    "    input_names=['x'],\n",
    "    output_names=['y'],\n",
    ")\n",
    "torch.onnx.export(\n",
    "    torch_model,\n",
    "    tuple(next(iter(dataloader))),\n",
    "    model_path,\n",
    "    input_names=['x'],\n",
    "    output_names=['y'],\n",
    ")"
   ]
  }
 ],
 "metadata": {
  "kernelspec": {
   "display_name": "Python 3 (ipykernel)",
   "language": "python",
   "name": "python3"
  },
  "language_info": {
   "codemirror_mode": {
    "name": "ipython",
    "version": 3
   },
   "file_extension": ".py",
   "mimetype": "text/x-python",
   "name": "python",
   "nbconvert_exporter": "python",
   "pygments_lexer": "ipython3",
   "version": "3.10.4"
  }
 },
 "nbformat": 4,
 "nbformat_minor": 5
}
